{
 "cells": [
  {
   "cell_type": "markdown",
   "metadata": {
    "colab_type": "text",
    "id": "ISV_j8bo9if8"
   },
   "source": [
    "<img src=\"https://s8.hostingkartinok.com/uploads/images/2018/08/308b49fcfbc619d629fe4604bceb67ac.jpg\" width=500, height=450>\n",
    "<h3 style=\"text-align: center;\"><b>Физтех-Школа Прикладной математики и информатики (ФПМИ) МФТИ</b></h3>"
   ]
  },
  {
   "cell_type": "markdown",
   "metadata": {
    "colab_type": "text",
    "id": "RnuMlpJp9if9"
   },
   "source": [
    "---"
   ]
  },
  {
   "cell_type": "markdown",
   "metadata": {
    "colab_type": "text",
    "id": "lkoop-MT9if-"
   },
   "source": [
    "<h2 style=\"text-align: center;\"><b>Домашнее задание: нейрон с разными функциями активации</b></h2>"
   ]
  },
  {
   "cell_type": "markdown",
   "metadata": {
    "colab_type": "text",
    "id": "qGKppuWS9if-"
   },
   "source": [
    "---"
   ]
  },
  {
   "cell_type": "markdown",
   "metadata": {
    "colab_type": "text",
    "id": "6gfbXqXQ9if_"
   },
   "source": [
    "### Сначала необходимо решить ноутбуки `[seminar]perceptron.ipynb` и `[seminar]neuron.ipynb`!"
   ]
  },
  {
   "cell_type": "markdown",
   "metadata": {
    "colab_type": "text",
    "id": "IUjxg_IS31tn"
   },
   "source": [
    "**Очень часто спрашивают -- а какую функции активации стоит выбрать?** В этом ноутбуке вам предлагается самим дойти до истины и сравнить нейроны с различными функциями активации (их качестве на двух выборках). Не забудьте убедиться, что все эксперименты с разными видами нейронов вы проводите в одинаковых условиях (иначе ведь эксперимент будет нечестным).\n",
    "\n",
    "В данном задании Вам нужно будет: \n",
    "- самостоятельно реализовать класс **`Neuron()`** с разными функциями активации\n",
    "- обучить и протестировать этот класс на сгенерированных и реальных данных (файлы с реальными данными помещены в папку /data в этой же директории)"
   ]
  },
  {
   "cell_type": "markdown",
   "metadata": {
    "colab_type": "text",
    "id": "mHap62ES9igB"
   },
   "source": [
    "В данном ноутбуке Вам предстоит реализовать нейрон с разными функциями активации: Sigmoid, ReLU, LeakyReLU и ELU."
   ]
  },
  {
   "cell_type": "code",
   "execution_count": 1,
   "metadata": {
    "colab": {},
    "colab_type": "code",
    "id": "p-OYlV519igB"
   },
   "outputs": [],
   "source": [
    "from matplotlib import pyplot as plt\n",
    "from matplotlib.colors import ListedColormap  # тут лежат разные штуки для цветовой магии\n",
    "import numpy as np\n",
    "import pandas as pd\n",
    "import numpy.ma as ma"
   ]
  },
  {
   "cell_type": "code",
   "execution_count": 2,
   "metadata": {
    "colab": {},
    "colab_type": "code",
    "id": "t1VCt_rDHum3"
   },
   "outputs": [],
   "source": [
    "RANDOM_SEED = 42  # не меняйте, от этого зависит результат теста!\n",
    "np.random.seed(RANDOM_SEED)"
   ]
  },
  {
   "cell_type": "markdown",
   "metadata": {
    "colab_type": "text",
    "id": "CmEexUY631uM"
   },
   "source": [
    "---"
   ]
  },
  {
   "cell_type": "markdown",
   "metadata": {
    "colab_type": "text",
    "id": "cgpFOaPm9igG"
   },
   "source": [
    "В данном случае мы снова решаем задачу бинарной классификации (2 класса: 1 или 0):\n",
    "\n",
    "$$\n",
    "Loss(\\hat{y}, y) = \\frac{1}{2n}\\sum_{i=1}^{n} (\\hat{y_i} - y_i)^2\n",
    "$$  \n",
    "\n",
    "Здесь $w \\cdot X_i$ - скалярное произведение, а $\\sigma(w \\cdot X_i) =\\frac{1}{1+e^{-w \\cdot X_i}} $ - сигмоида ($i$ -- номер объекта в выборке).  \n",
    "\n",
    "**Примечание:** Здесь предполагается, что $b$ - свободный член - является частью вектора весов: $w_0$. Тогда, если к $X$ приписать единичный столбец, в скалярном произведении $b$ будет именно как свободный член."
   ]
  },
  {
   "cell_type": "code",
   "execution_count": 3,
   "metadata": {
    "colab": {},
    "colab_type": "code",
    "id": "yn3F0layHunD"
   },
   "outputs": [],
   "source": [
    "def Loss(y_pred, y):\n",
    "    y_pred = y_pred.reshape(-1, 1)\n",
    "    y = np.array(y).reshape(-1, 1)\n",
    "    return 0.5 * np.mean((y_pred - y) ** 2)"
   ]
  },
  {
   "cell_type": "markdown",
   "metadata": {
    "colab_type": "text",
    "id": "rYoQAdXoHunK"
   },
   "source": [
    "Далее будут предложены несколько функций активации, и вам нужно реализовать класс `Neuron` по аналогии с тем, как это было на семинаре. Сам принцип тот же, но меняются формула обновления весов и формула предсказания.\n",
    "\n",
    "**Система такая**: Будут три функции активации, у первой все формулы даны, нужно лишь закодить. У второй будет написана производная, но не будет подставлена в $Loss$, это нужно сделать вам. У третьей будет лишь сама формула функции."
   ]
  },
  {
   "cell_type": "markdown",
   "metadata": {
    "colab_type": "text",
    "id": "WHvdwJW9HunN"
   },
   "source": [
    "<h2 style=\"text-align: center;\"><b>Нейрон с ReLU (Recitified Linear Unit)</b></h2>  "
   ]
  },
  {
   "cell_type": "markdown",
   "metadata": {
    "colab_type": "text",
    "id": "AMA7Gi6KHunQ"
   },
   "source": [
    "ReLU самая часто используемая (по крайней мере, пару лет назад) функция активации в нейронных сетях. Выглядит она очень просто:\n",
    "\n",
    "\\begin{equation*}\n",
    "ReLU(x) =\n",
    " \\begin{cases}\n",
    "   0, &\\text{$x \\le 0$}\\\\\n",
    "   x, &\\text{$x \\gt 0$}\n",
    " \\end{cases}\n",
    "\\end{equation*}\n",
    "\n",
    "Или по-другому:\n",
    "\n",
    "$$\n",
    "ReLU(x) = \\max(0, x)\n",
    "$$\n",
    "\n",
    "В (свободном) переводе Rectified Linear Unit = \"Усечённая линейная функция\". Собственно, мы по сути просто не даём проходить отрицательным числам.\n",
    "\n",
    "Производная здесь берётся как производная от кусочно-заданной функции, то есть на участках, где функция гладкая, и в нуле её доопредляют нулём:\n",
    "\n",
    "\\begin{equation*}\n",
    "ReLU'(x) = \n",
    " \\begin{cases}\n",
    "   0, &\\text{$x \\le 0$}\\\\\n",
    "   1, &\\text{$x \\gt 0$}\n",
    " \\end{cases}\n",
    "\\end{equation*}\n",
    "\n",
    "График этой функции и её производной выглядят так:\n",
    "\n",
    "<img src=\"https://upload-images.jianshu.io/upload_images/1828517-0828da0d1164c024.png?imageMogr2/auto-orient/strip%7CimageView2/2/w/1240\" width=800 height=400>\n",
    "\n",
    "Подставим ReLu в Loss:\n",
    "\n",
    "$$Loss(\\hat{y}, y) = \\frac{1}{2n}\\sum_{i=1}^{n} (\\hat{y_i} - y_i)^2 = \\frac{1}{2n}\\sum_{i=1}^{n} (ReLU(w \\cdot X_i) - y_i)^2 = \\begin{equation*}\n",
    "\\frac{1}{2n}\\sum_{i=1}^{n}\n",
    " \\begin{cases}\n",
    "    y_i^2, &{w \\cdot X_i \\le 0}\\\\\n",
    "   (w \\cdot X_i - y_i)^2, &{w \\cdot X_i \\gt 0}\n",
    " \\end{cases}\n",
    "\\end{equation*}$$  \n",
    "\n",
    "(помните, что $w \\cdot X_i$ -- это число в данном случае (результат скалярного произведения двух векторов).\n",
    "\n",
    "Тогда формула для обновления весов при градиентном спуске будет такая (в матричном виде, рекмоендуем вывести самим то, как это получается из формулы для одного объекта):\n",
    "\n",
    "$$ \\frac{\\partial Loss}{\\partial w} = \\begin{equation*}\n",
    "\\sum_{i=1}^{n}\n",
    " \\begin{cases}\n",
    "   0, &{w \\cdot X_i \\le 0}\\\\\n",
    "   \\frac{1}{n} X_i^T (w \\cdot X_i - y), &{w \\cdot X_i \\gt 0}\n",
    " \\end{cases}\n",
    "\\end{equation*}$$\n",
    "\n",
    "(напоминаем, что здесь $w \\cdot X$ -- матричное произведение вектора $w$ (ведь вектор -- тоже матрица, не так ли?) и матрицы $X$ )\n",
    "\n",
    "Почему в первом случае будет 0? Потому что в формулу $y_i^2$ не входят веса , а мы берём производную именно по весам $w$.\n",
    "\n",
    "* Реализуйте ReLU и её производную:"
   ]
  },
  {
   "cell_type": "code",
   "execution_count": 4,
   "metadata": {
    "colab": {},
    "colab_type": "code",
    "id": "DCgAeho19igI"
   },
   "outputs": [],
   "source": [
    "def relu(x):\n",
    "    \"\"\"ReLU-функция\"\"\"\n",
    "    return np.where(x > 0, x, 0)"
   ]
  },
  {
   "cell_type": "code",
   "execution_count": 5,
   "metadata": {
    "colab": {},
    "colab_type": "code",
    "id": "nXwsy-7J9igL"
   },
   "outputs": [],
   "source": [
    "def relu_derivative(x):\n",
    "    \"\"\"Производная ReLU\"\"\"\n",
    "    return 1 if x > 0 else 0"
   ]
  },
  {
   "cell_type": "markdown",
   "metadata": {
    "colab_type": "text",
    "id": "qKurn-7F9igN"
   },
   "source": [
    "Теперь нужно написать нейрон с ReLU. Здесь всё очень похоже на перцептрон, но будут по-другому обновляться веса и другая функция активации:"
   ]
  },
  {
   "cell_type": "code",
   "execution_count": 6,
   "metadata": {
    "colab": {},
    "colab_type": "code",
    "id": "AM9vn3OX9igO"
   },
   "outputs": [],
   "source": [
    "class NeuronReLU:\n",
    "    def __init__(self, w=None, b=0):\n",
    "        \"\"\"\n",
    "        :param: w -- вектор весов\n",
    "        :param: b -- смещение\n",
    "        \"\"\"\n",
    "        # Пока что мы не знаем размер матрицы X, а значит не знаем, сколько будет весов\n",
    "        self.w = w\n",
    "        self.b = b\n",
    "        \n",
    "    def activate(self, x):\n",
    "        return relu(x)\n",
    "        \n",
    "    def forward_pass(self, X):\n",
    "        \"\"\"\n",
    "        Рассчитывает ответ нейрона при предъявлении набора объектов\n",
    "        :param: X -- матрица примеров размера (n, m), каждая строка - отдельный объект\n",
    "        :return: вектор размера (n, 1) из нулей и единиц с ответами перцептрона \n",
    "        \"\"\"\n",
    "        n = X.shape[0]\n",
    "        y_pred = np.zeros((n, 1))  # y_pred == y_predicted - предсказанные классы\n",
    "        y_pred = self.activate(X @ self.w.reshape(X.shape[1], 1) + self.b)\n",
    "        \n",
    "        return y_pred.reshape(-1, 1)\n",
    "    \n",
    "    \n",
    "    def backward_pass(self, X, y, y_pred, learning_rate=0.005):\n",
    "        \"\"\"\n",
    "        Обновляет значения весов нейрона в соответствии с этим объектом\n",
    "        :param: X -- матрица входов размера (n, m)\n",
    "                y -- вектор правильных ответов размера (n, 1)\n",
    "                learning_rate - \"скорость обучения\" (символ alpha в формулах выше)\n",
    "        В этом методе ничего возвращать не нужно, только правильно поменять веса\n",
    "        с помощью градиентного спуска.\n",
    "        \"\"\"\n",
    "        n = len(y)\n",
    "        y = np.array(y).reshape(-1, 1)\n",
    "        \n",
    "        \n",
    "        self.w = self.w - learning_rate * (X.T @ (np.where(y_pred > 0 , y_pred, y) - y) / n)\n",
    "        self.b = self.b - learning_rate * np.mean(y_pred - y)\n",
    "    \n",
    "    def fit(self, X, y, num_epochs=300):\n",
    "        \"\"\"\n",
    "        Спускаемся в минимум\n",
    "        :param: X -- матрица объектов размера (n, m)\n",
    "                y -- вектор правильных ответов размера (n, 1)\n",
    "                num_epochs -- количество итераций обучения\n",
    "        :return: losses -- вектор значений функции потерь\n",
    "        \"\"\"\n",
    "        # self.w = np.zeros((X.shape[1], 1))  # столбец (m, 1)\n",
    "        # self.b = 0  # смещение (число)\n",
    "        Loss_values = []  # значения функции потерь на различных итерациях обновления весов\n",
    "        \n",
    "        for i in range(num_epochs):\n",
    "            y_pred = self.forward_pass(X)\n",
    "            Loss_values.append(Loss(y_pred, y))\n",
    "            self.backward_pass(X,y, y_pred)\n",
    "        \n",
    "        return Loss_values"
   ]
  },
  {
   "cell_type": "markdown",
   "metadata": {
    "colab_type": "text",
    "id": "thtFp-at9igS"
   },
   "source": [
    "<h3 style=\"text-align: center;\"><b>Тестирование нейрона с ReLU</b></h3>  "
   ]
  },
  {
   "cell_type": "markdown",
   "metadata": {
    "colab_type": "text",
    "id": "hOuYzf_u9igS"
   },
   "source": [
    "Здесь Вам нужно самим протестировать новый нейрон **на тех же данных (\"Яблоки и Груши\")** по аналогии с тем, как это было проделано с перцептроном  (можете смело копировать код, только будьте осторожны - кое-что в нём всё же скорее всего придётся поправить).\n",
    "В итоге нужно вывести: \n",
    "* график, на котором будет показано, как изменяется функция потерь $Loss$ в зависимости от числа итераций обучения\n",
    "* график с раскраской выборки сигмоидальным нейроном"
   ]
  },
  {
   "cell_type": "markdown",
   "metadata": {
    "colab_type": "text",
    "id": "chEeb88gHuny"
   },
   "source": [
    "***ПРИМЕЧАНИЕ***: пожалуйста, почаще проверяйте `.shape` у матриц и векторов: `self.w`, `X` и `y` внутри класса. Очень часто ошибка решается транспонированием или `.reshape()`'ом. Не забывайте проверять, что на что вы умножаете и какой вектор (какой размер) хотите получить на выходе -- это очень помогает не запутаться."
   ]
  },
  {
   "cell_type": "markdown",
   "metadata": {
    "colab_type": "text",
    "id": "JGs_F5N331u9"
   },
   "source": [
    "**(для теста) Проверка forward_pass()**"
   ]
  },
  {
   "cell_type": "code",
   "execution_count": 7,
   "metadata": {
    "colab": {},
    "colab_type": "code",
    "id": "aKmrhe_831vG"
   },
   "outputs": [
    {
     "name": "stdout",
     "output_type": "stream",
     "text": [
      "y_pred = [[ 9.]\n",
      " [12.]\n",
      " [ 0.]]\n"
     ]
    }
   ],
   "source": [
    "w = np.array([1., 2.]).reshape(2, 1)\n",
    "b = 2.\n",
    "X = np.array([[1., 3.],\n",
    "              [2., 4.],\n",
    "              [-1., -3.2]])\n",
    "\n",
    "neuron = NeuronReLU(w, b)\n",
    "y_pred = neuron.forward_pass(X)\n",
    "print (\"y_pred = \" + str(y_pred))"
   ]
  },
  {
   "cell_type": "markdown",
   "metadata": {
    "colab_type": "text",
    "id": "dvm9wt9kHuoA"
   },
   "source": [
    "*Hint: \"**-0.**\" -- это просто ноль*"
   ]
  },
  {
   "cell_type": "markdown",
   "metadata": {
    "colab_type": "text",
    "id": "VYG2uFcy31vP"
   },
   "source": [
    "**(для теста) Проверка backward_pass()**"
   ]
  },
  {
   "cell_type": "code",
   "execution_count": 8,
   "metadata": {
    "colab": {},
    "colab_type": "code",
    "id": "UvUkrgQy31vQ"
   },
   "outputs": [],
   "source": [
    "y = np.array([1, 0, 1]).reshape(3, 1)"
   ]
  },
  {
   "cell_type": "code",
   "execution_count": 9,
   "metadata": {
    "colab": {},
    "colab_type": "code",
    "id": "pWooOLya31vX"
   },
   "outputs": [
    {
     "name": "stdout",
     "output_type": "stream",
     "text": [
      "w = [[0.94666667]\n",
      " [1.88      ]]\n",
      "b = 1.9683333333333333\n"
     ]
    }
   ],
   "source": [
    "neuron.backward_pass(X, y, y_pred)\n",
    "\n",
    "\n",
    "print (\"w = \" + str(neuron.w))\n",
    "print (\"b = \" + str(neuron.b))\n"
   ]
  },
  {
   "cell_type": "markdown",
   "metadata": {
    "colab_type": "text",
    "id": "X085TCvBHuoQ"
   },
   "source": [
    "\"Яблоки и Груши\":"
   ]
  },
  {
   "cell_type": "code",
   "execution_count": 10,
   "metadata": {
    "colab": {},
    "colab_type": "code",
    "id": "LEnSapY_HuoR"
   },
   "outputs": [
    {
     "data": {
      "image/png": "[encoded data removed]",
      "text/plain": [
       "<Figure size 720x576 with 1 Axes>"
      ]
     },
     "metadata": {},
     "output_type": "display_data"
    }
   ],
   "source": [
    "data = pd.read_csv(\"./data/apples_pears.csv\")\n",
    "plt.figure(figsize=(10, 8))\n",
    "plt.scatter(data.iloc[:, 0], data.iloc[:, 1], c=data['target'], cmap='rainbow')\n",
    "plt.title('Яблоки и груши', fontsize=15)\n",
    "plt.xlabel('симметричность', fontsize=14)\n",
    "plt.ylabel('желтизна', fontsize=14)\n",
    "plt.show();"
   ]
  },
  {
   "cell_type": "code",
   "execution_count": 11,
   "metadata": {
    "colab": {},
    "colab_type": "code",
    "id": "03cIoaEsHuod"
   },
   "outputs": [],
   "source": [
    "X = data.iloc[:,:2].values  # матрица объекты-признаки\n",
    "y = data['target'].values.reshape((-1, 1))  # классы (столбец из нулей и единиц)"
   ]
  },
  {
   "cell_type": "markdown",
   "metadata": {
    "colab_type": "text",
    "id": "dR6xZg6kHuol"
   },
   "source": [
    "Выведите лосс при обучении нейрона с ReLU на этом датасете:"
   ]
  },
  {
   "cell_type": "code",
   "execution_count": 12,
   "metadata": {
    "colab": {},
    "colab_type": "code",
    "id": "FZDtNG6CHuop"
   },
   "outputs": [
    {
     "data": {
      "image/png": "[encoded data removed]",
      "text/plain": [
       "<Figure size 720x576 with 1 Axes>"
      ]
     },
     "metadata": {},
     "output_type": "display_data"
    },
    {
     "name": "stdout",
     "output_type": "stream",
     "text": [
      "Wall time: 390 ms\n"
     ]
    }
   ],
   "source": [
    "%%time\n",
    "\n",
    "neuron = NeuronReLU(w, b)\n",
    "Loss_values = neuron.fit(X,y)\n",
    "\n",
    "plt.figure(figsize=(10, 8))\n",
    "plt.plot(Loss_values)\n",
    "plt.title('Функция потерь', fontsize=15)\n",
    "plt.xlabel('номер итерации', fontsize=14)\n",
    "plt.ylabel('$Loss(\\hat{y}, y)$', fontsize=14)\n",
    "plt.show()"
   ]
  },
  {
   "cell_type": "markdown",
   "metadata": {
    "colab_type": "text",
    "id": "sPxo2YVeHuou"
   },
   "source": [
    "Скорее всего сейчас у вас лосс -- это прямая линия, и вы видите, что веса не обновляются. Но почему?!"
   ]
  },
  {
   "cell_type": "markdown",
   "metadata": {
    "colab_type": "text",
    "id": "mXUmEeUBHuov"
   },
   "source": [
    "Всё просто -- возможно мы об этом вам ещё не говорили, но если присмотреться, то видно, что self.w и self.b иницилизируются нулями в начале `.fit()`-метода. Если расписать, как будет идти обновление, то видно, что из-за ReLU веса просто-напросто не будут обновляться, если начать с инициализации нулями. \n",
    "\n",
    "Это -- одна из причин, по которой в нейронных сетях веса инициализируют случаными числами (обычно из отрезка [0, 1)).\n",
    "\n",
    "Обучим нейрон, инициализировав случайно веса (поставьте 10000 итераций). \n",
    "\n",
    "**!!! Закомментируйте инициализацию нулями в функции `.fit()` класса `NeuronReLU` !!!**"
   ]
  },
  {
   "cell_type": "code",
   "execution_count": 13,
   "metadata": {
    "colab": {},
    "colab_type": "code",
    "id": "E821cUM0Huo8"
   },
   "outputs": [
    {
     "data": {
      "image/png": "[encoded data removed]",
      "text/plain": [
       "<Figure size 720x576 with 1 Axes>"
      ]
     },
     "metadata": {},
     "output_type": "display_data"
    },
    {
     "name": "stdout",
     "output_type": "stream",
     "text": [
      "Wall time: 763 ms\n"
     ]
    }
   ],
   "source": [
    "%%time\n",
    "\n",
    "neuron = NeuronReLU(w=np.random.rand(X.shape[1], 1), b=np.random.rand(1))\n",
    "Loss_values = neuron.fit(X, y, num_epochs=10000)\n",
    "\n",
    "plt.figure(figsize=(10, 8))\n",
    "plt.plot(Loss_values)\n",
    "plt.title('Функция потерь', fontsize=15)\n",
    "plt.xlabel('номер итерации', fontsize=14)\n",
    "plt.ylabel('$Loss(\\hat{y}, y)$', fontsize=14)\n",
    "plt.show()"
   ]
  },
  {
   "cell_type": "markdown",
   "metadata": {
    "colab_type": "text",
    "id": "z3XeufnfHupE"
   },
   "source": [
    "**(для теста) Проверка лосса:**"
   ]
  },
  {
   "cell_type": "markdown",
   "metadata": {
    "colab_type": "text",
    "id": "HCn5DSP5HupK"
   },
   "source": [
    "Выведите сумму первых пяти и последних пяти значений loss'а при обучении с num_epochs=10000, округлите до 4-го знака после запятой:"
   ]
  },
  {
   "cell_type": "markdown",
   "metadata": {
    "colab_type": "text",
    "id": "gThPeHNm9Am6"
   },
   "source": [
    "ВАЖНО! Если вы перезапускали предыдущую ячейку с кодом несколько раз, то для переноса реультатов в тест на Canvas просьба запустить ту ячейку \"с нуля\", перезапустив Runtime, поскольку `random` вносит случайность. В тесте есть несколько вариантов ответа, на случай, если Вы всё же запустили не с первого раза, но лучше не копировать ответ в тест после, например, 10 запусков этой и последующих таких ячеек."
   ]
  },
  {
   "cell_type": "code",
   "execution_count": 14,
   "metadata": {
    "colab": {},
    "colab_type": "code",
    "id": "ELZVl_9rHupL"
   },
   "outputs": [
    {
     "name": "stdout",
     "output_type": "stream",
     "text": [
      "[0.4565, 0.4528, 0.4491, 0.4454, 0.4418] [0.025, 0.025, 0.025, 0.025, 0.025]\n"
     ]
    }
   ],
   "source": [
    "first_5 = [round(x, 4) for x in Loss_values[:5]]\n",
    "last_5 = [round(x, 4) for x in Loss_values[-5:]]\n",
    "\n",
    "print(first_5, last_5)"
   ]
  },
  {
   "cell_type": "markdown",
   "metadata": {
    "colab_type": "text",
    "id": "jkWMrc9uHupS"
   },
   "source": [
    "Посмотрим, как предсказывает этот нейрон:"
   ]
  },
  {
   "cell_type": "code",
   "execution_count": 15,
   "metadata": {},
   "outputs": [
    {
     "data": {
      "text/plain": [
       "2.3706"
      ]
     },
     "execution_count": 15,
     "metadata": {},
     "output_type": "execute_result"
    }
   ],
   "source": [
    "round(sum(first_5) + sum(last_5), 4)"
   ]
  },
  {
   "cell_type": "code",
   "execution_count": 16,
   "metadata": {
    "colab": {},
    "colab_type": "code",
    "id": "hyjfcthcHupT",
    "scrolled": false
   },
   "outputs": [
    {
     "data": {
      "image/png": "[encoded data removed]",
      "text/plain": [
       "<Figure size 720x576 with 1 Axes>"
      ]
     },
     "metadata": {},
     "output_type": "display_data"
    }
   ],
   "source": [
    "plt.figure(figsize=(10, 8))\n",
    "plt.scatter(data.iloc[:, 0], data.iloc[:, 1], c=np.array(neuron.forward_pass(X) > 0.5).ravel(), cmap='spring')\n",
    "plt.title('Яблоки и груши', fontsize=15)\n",
    "plt.xlabel('симметричность', fontsize=14)\n",
    "plt.ylabel('желтизна', fontsize=14)\n",
    "plt.show();"
   ]
  },
  {
   "cell_type": "markdown",
   "metadata": {
    "colab_type": "text",
    "id": "fA9TCYBXHupW"
   },
   "source": [
    "Должно разделиться более-менее неплохо. Но почему мы берём якобы \"прокаченную\" ReLU, которая часто используется, и она предсказывает хуже (намного дольше сходится), чем перцептрон с пороговой, который никто не использует? Вообще, где и какая функция активации \"выстрелит\" -- никто не знает заранее, это зависит в том числе от самих данных."
   ]
  },
  {
   "cell_type": "markdown",
   "metadata": {
    "colab_type": "text",
    "id": "nDvxxQQDHupZ"
   },
   "source": [
    "<img src=\"https://alumni.lscollege.ac.uk/files/2015/12/Interview-questions-square-image.jpg\" width=400 height=300>"
   ]
  },
  {
   "cell_type": "markdown",
   "metadata": {
    "colab_type": "text",
    "id": "MSNZuWl9Hupd"
   },
   "source": [
    "Но есть одна тенденция: пороговая функция активации и сигмоида (обычно всё же только сигмоида) чаще используются именно на **выходном слое** нейросети в задаче классификации -- ими предсказывают вероятности объектов принадлежать одному из классов, в то время как продвинутые функции активации (ReLU и те, что будут дальше) используются внутри нейросети, то есть на **скрытых слоях**."
   ]
  },
  {
   "cell_type": "markdown",
   "metadata": {
    "colab_type": "text",
    "id": "_X3lDHElHupo"
   },
   "source": [
    "Однако ничто не мешает помещать ReLU на выходной слой, а сигмоиду -- внутрь. Deep Learning -- \"очень экспериментальная\" область: вы можете сделать открытие своими собственными руками, просто поменяв что-то незначительное, например, функцию активации."
   ]
  },
  {
   "cell_type": "markdown",
   "metadata": {
    "colab_type": "text",
    "id": "sET710OVHupp"
   },
   "source": [
    "**Плюсы ReLU:**"
   ]
  },
  {
   "cell_type": "markdown",
   "metadata": {
    "colab_type": "text",
    "id": "HY3iXGBWHupr"
   },
   "source": [
    "* дифференцируемая (с доопределнием в нуле)\n",
    "* нет проблемы затухающих градиентов, как в сигмоиде"
   ]
  },
  {
   "cell_type": "markdown",
   "metadata": {
    "colab_type": "text",
    "id": "Nr_3XwTWHups"
   },
   "source": [
    "**Возможные минусы ReLU:**"
   ]
  },
  {
   "cell_type": "markdown",
   "metadata": {
    "colab_type": "text",
    "id": "0TAwVdRXHupt"
   },
   "source": [
    "* не центрирована около 0 (может мешать скорости сходимсти)\n",
    "* зануляет все отрицательные входы, тем самым веса у занулённых нейронов могут часто *не обновляться*, эту проблему иногда называют *мёртвые нейроны*"
   ]
  },
  {
   "cell_type": "markdown",
   "metadata": {
    "colab_type": "text",
    "id": "Vj1JGXTPHupu"
   },
   "source": [
    "С последней проблемой можно побороться, а именно:"
   ]
  },
  {
   "cell_type": "markdown",
   "metadata": {
    "colab_type": "text",
    "id": "Yn2taDMNHupv"
   },
   "source": [
    "<h2 style=\"text-align: center;\"><b>Нейрон с LeakyReLU (Leaky Recitified Linear Unit)</b></h2>  "
   ]
  },
  {
   "cell_type": "markdown",
   "metadata": {
    "colab_type": "text",
    "id": "iCRBWooSHupx"
   },
   "source": [
    "LeakyReLU очень слабо отличается от ReLU, но часто помогает сети обучаться быстрее, поскольку нет проблемы \"мёртвых нейронов\":\n",
    "\n",
    "\\begin{equation*}\n",
    "LeakyReLU(x) =\n",
    " \\begin{cases}\n",
    "   \\alpha x, &\\text{$x \\le 0$}\\\\\n",
    "   x, &\\text{$x \\gt 0$}\n",
    " \\end{cases}\n",
    "\\end{equation*}\n",
    "\n",
    "где $\\alpha$ -- маленькое число от 0 до 1.\n",
    "\n",
    "Производная здесь берётся так же, но вместо нуля будет $\\alpha$:\n",
    "\n",
    "\\begin{equation*}\n",
    "LeakyReLU'(x) = \n",
    " \\begin{cases}\n",
    "   \\alpha, &\\text{$x \\le 0$}\\\\\n",
    "   1, &\\text{$x \\gt 0$}\n",
    " \\end{cases}\n",
    "\\end{equation*}\n",
    "\n",
    "График этой функции:\n",
    "\n",
    "<img src=\"https://cdn-images-1.medium.com/max/1600/0*UtLlZJ80TMIM7kXk.\" width=400 height=300>\n",
    "\n",
    "Подставим LeakyReLu в Loss:\n",
    "\n",
    "$$\n",
    "Loss(\\hat{y}, y) = \\frac{1}{2n}\\sum_{i=1}^{n} (\\hat{y_i} - y_i)^2 = \\frac{1}{2n}\\sum_{i=1}^{n} (LeakyReLU(w \\cdot X_i) - y_i)^2 =\n",
    "\\begin{equation*}\n",
    "\\frac{1}{2n}\\sum_{i=1}^{n} \n",
    " \\begin{cases}\n",
    "   (\\alpha \\cdot w \\cdot X_i - y_i)^2, &{w \\cdot X_i \\le 0}\\\\\n",
    "   (w \\cdot X_i - y_i)^2, &{w \\cdot X_i \\gt 0}\n",
    " \\end{cases}\n",
    "\\end{equation*}\n",
    "$$  \n",
    "\n",
    "Формула для обновления весов при градиентном спуске:\n",
    "\n",
    "$$ \\frac{\\partial Loss}{\\partial w} = \\begin{equation*}\n",
    "\\frac{1}{n}\\sum_{i=1}^{n} \n",
    " \\begin{cases}\n",
    "   \\alpha X_i^T (w \\cdot X_i - y), &{w \\cdot X_i \\le 0}\\\\\n",
    "    X_i^T (w \\cdot X_i - y), &{w \\cdot X_i \\gt 0}\n",
    " \\end{cases}\n",
    "\\end{equation*}$$\n",
    "\n",
    "* Реализуйте LeakyReLU и её производную:"
   ]
  },
  {
   "cell_type": "code",
   "execution_count": 21,
   "metadata": {
    "colab": {},
    "colab_type": "code",
    "id": "yuBLORHs6reh"
   },
   "outputs": [],
   "source": [
    "def leaky_relu(x, alpha=0.01):\n",
    "    \"\"\"LeakyReLU-функция\"\"\"\n",
    "    return np.where(x <= 0, alpha * x, x)"
   ]
  },
  {
   "cell_type": "code",
   "execution_count": 22,
   "metadata": {
    "colab": {},
    "colab_type": "code",
    "id": "PZObir-96rek"
   },
   "outputs": [],
   "source": [
    "def leaky_relu_derivative(x, alpha=0.01):\n",
    "    \"\"\"Производная LeakyReLU\"\"\"\n",
    "    return np.where(x <= 0, alpha, x)"
   ]
  },
  {
   "cell_type": "markdown",
   "metadata": {
    "colab_type": "text",
    "id": "TE25WcUQ6ren"
   },
   "source": [
    "Теперь нужно написать нейрон с LeakyReLU функцией активации. Здесь всё очень похоже на перцептрон, но будут по-другому обновляться веса и другая функция активации:"
   ]
  },
  {
   "cell_type": "code",
   "execution_count": 23,
   "metadata": {
    "colab": {},
    "colab_type": "code",
    "id": "P1hF_ufY6ren"
   },
   "outputs": [],
   "source": [
    "class NeuronLeakyReLU:\n",
    "    def __init__(self, w=None, b=0):\n",
    "        \"\"\"\n",
    "        :param: w -- вектор весов\n",
    "        :param: b -- смещение\n",
    "        \"\"\"\n",
    "        # Пока что мы не знаем размер матрицы X, а значит не знаем, сколько будет весов\n",
    "        self.w = w\n",
    "        self.b = b\n",
    "        \n",
    "    def activate(self, x, alpha=0.01):\n",
    "        return leaky_relu(x, alpha)\n",
    "        \n",
    "\n",
    "        \n",
    "    def forward_pass(self, X):\n",
    "        \"\"\"\n",
    "        Рассчитывает ответ нейрона при предъявлении набора объектов\n",
    "        :param: X -- матрица примеров размера (n, m), каждая строка - отдельный объект\n",
    "        :return: вектор размера (n, 1) из нулей и единиц с ответами перцептрона \n",
    "        \"\"\"\n",
    "        n = X.shape[0]\n",
    "        y_pred = np.zeros((n, 1))  # y_pred == y_predicted - предсказанные классы\n",
    "        y_pred = self.activate(X @ self.w.reshape(X.shape[1], 1) + self.b)\n",
    "        \n",
    "        \n",
    "        return y_pred.reshape(-1, 1)\n",
    "    \n",
    "    def backward_pass(self, X, y, y_pred, learning_rate=0.005, alpha=0.01):\n",
    "        \"\"\"\n",
    "        Обновляет значения весов нейрона в соответствии с этим объектом\n",
    "        :param: X -- матрица входов размера (n, m)\n",
    "                y -- вектор правильных ответов размера (n, 1)\n",
    "                learning_rate - \"скорость обучения\" (символ alpha в формулах выше)\n",
    "        В этом методе ничего возвращать не нужно, только правильно поменять веса\n",
    "        с помощью градиентного спуска.\n",
    "        \"\"\"\n",
    "        n = len(y)\n",
    "        y = np.array(y).reshape(-1, 1)\n",
    "        \n",
    "        \n",
    "        self.w = self.w - learning_rate * X.T @  np.where(y_pred > 0, (y_pred - y), alpha * (y_pred - y)) * 1/n\n",
    "        self.b = self.b - learning_rate * np.mean(np.where(y_pred <= 0, alpha*y_pred - y, y_pred - y))\n",
    "        \n",
    "    \n",
    "    def fit(self, X, y, num_epochs=300):\n",
    "        \"\"\"\n",
    "        Спускаемся в минимум\n",
    "        :param: X -- матрица объектов размера (n, m)\n",
    "                y -- вектор правильных ответов размера (n, 1)\n",
    "                num_epochs -- количество итераций обучения\n",
    "        :return: losses -- вектор значений функции потерь\n",
    "        \"\"\"\n",
    "#       self.w = np.zeros((X.shape[1], 1))  # столбец (m, 1)\n",
    "#       self.b = 0  # смещение (число)\n",
    "        Loss_values = []  # значения функции потерь на различных итерациях обновления весов\n",
    "        \n",
    "        for i in range(num_epochs):\n",
    "            y_pred = self.forward_pass(X)\n",
    "            Loss_values.append(Loss(y_pred, y))\n",
    "            self.backward_pass(X,y, y_pred)\n",
    "            \n",
    "        \n",
    "        return Loss_values"
   ]
  },
  {
   "cell_type": "markdown",
   "metadata": {
    "colab_type": "text",
    "id": "RhbHyAib6req"
   },
   "source": [
    "<h3 style=\"text-align: center;\"><b>Тестирование нейрона с LeakyReLU</b></h3>  "
   ]
  },
  {
   "cell_type": "markdown",
   "metadata": {
    "colab_type": "text",
    "id": "45LYM788HuqF"
   },
   "source": [
    "***ПРИМЕЧАНИЕ***: пожалуйста, почаще проверяйте `.shape` у матриц и векторов: `self.w`, `X` и `y` внутри класса. Очень часто ошибка решается транспонированием или `.reshape()`'ом. Не забывайте проверять, что на что вы умножаете и какой вектор (какой размер) хотите получить на выходе -- это очень помогает не запутаться.  \n",
    "\n",
    "**Везде далее для тестирования не меняйте $\\alpha$=0.01 в `leaky_relu()` и в `leaky_relu_derivative()`**"
   ]
  },
  {
   "cell_type": "markdown",
   "metadata": {
    "colab_type": "text",
    "id": "PsCNxcsDHuqb"
   },
   "source": [
    "\"Яблоки и Груши\":"
   ]
  },
  {
   "cell_type": "code",
   "execution_count": 18,
   "metadata": {
    "colab": {},
    "colab_type": "code",
    "id": "MEXxd-YRHuqg"
   },
   "outputs": [
    {
     "data": {
      "image/png": "[encoded data removed]",
      "text/plain": [
       "<Figure size 720x576 with 1 Axes>"
      ]
     },
     "metadata": {},
     "output_type": "display_data"
    }
   ],
   "source": [
    "data = pd.read_csv(\"./data/apples_pears.csv\")\n",
    "plt.figure(figsize=(10, 8))\n",
    "plt.scatter(data.iloc[:, 0], data.iloc[:, 1], c=data['target'], cmap='rainbow')\n",
    "plt.title('Яблоки и груши', fontsize=15)\n",
    "plt.xlabel('симметричность', fontsize=14)\n",
    "plt.ylabel('желтизна', fontsize=14)\n",
    "plt.show();"
   ]
  },
  {
   "cell_type": "code",
   "execution_count": 19,
   "metadata": {
    "colab": {},
    "colab_type": "code",
    "id": "uzQyBSMOHuqk"
   },
   "outputs": [],
   "source": [
    "X = data.iloc[:,:2].values  # матрица объекты-признаки\n",
    "y = data['target'].values.reshape((-1, 1))  # классы (столбец из нулей и единиц)"
   ]
  },
  {
   "cell_type": "markdown",
   "metadata": {
    "colab_type": "text",
    "id": "d-92UxDqHuqo"
   },
   "source": [
    "Обучим нейрон, инициализировав случайно веса (поставьте 10000 итераций).\n",
    "\n",
    "**!!! Закомментируйте инициализацию нулями в функции `.fit()` класса `NeuronLeakyReLU` !!!**"
   ]
  },
  {
   "cell_type": "code",
   "execution_count": 24,
   "metadata": {
    "colab": {},
    "colab_type": "code",
    "id": "SGztqTFhHuqo"
   },
   "outputs": [
    {
     "data": {
      "image/png": "[encoded data removed]",
      "text/plain": [
       "<Figure size 720x576 with 1 Axes>"
      ]
     },
     "metadata": {},
     "output_type": "display_data"
    },
    {
     "name": "stdout",
     "output_type": "stream",
     "text": [
      "Wall time: 890 ms\n"
     ]
    }
   ],
   "source": [
    "%%time\n",
    "\n",
    "neuron = NeuronLeakyReLU(w=np.random.rand(X.shape[1], 1), b=np.random.rand(1))\n",
    "Loss_values = neuron.fit(X, y, num_epochs=10000)\n",
    "\n",
    "plt.figure(figsize=(10, 8))\n",
    "plt.plot(Loss_values)\n",
    "plt.title('Функция потерь', fontsize=15)\n",
    "plt.xlabel('номер итерации', fontsize=14)\n",
    "plt.ylabel('$Loss(\\hat{y}, y)$', fontsize=14)\n",
    "plt.show()"
   ]
  },
  {
   "cell_type": "code",
   "execution_count": 25,
   "metadata": {},
   "outputs": [
    {
     "name": "stdout",
     "output_type": "stream",
     "text": [
      "[[ 7.20218689e-01]\n",
      " [ 1.03570804e+00]\n",
      " [ 8.48095342e-01]\n",
      " [ 1.67014097e-01]\n",
      " [ 7.86499009e-01]\n",
      " [ 1.02154464e+00]\n",
      " [ 9.53711922e-01]\n",
      " [ 1.13271531e+00]\n",
      " [ 8.91648882e-02]\n",
      " [ 6.85578960e-01]\n",
      " [ 9.58002554e-01]\n",
      " [ 8.03290976e-01]\n",
      " [ 6.59393771e-01]\n",
      " [ 1.04007676e+00]\n",
      " [ 6.80053961e-01]\n",
      " [ 8.40857469e-01]\n",
      " [ 9.49207531e-01]\n",
      " [ 9.79557997e-01]\n",
      " [ 1.05578840e+00]\n",
      " [ 8.97400853e-01]\n",
      " [ 5.59925228e-01]\n",
      " [ 4.12465512e-01]\n",
      " [ 7.99824075e-01]\n",
      " [ 8.97611260e-01]\n",
      " [ 7.58748810e-01]\n",
      " [ 9.48707082e-01]\n",
      " [-7.31550946e-03]\n",
      " [ 8.49844813e-01]\n",
      " [ 3.47595435e-01]\n",
      " [-1.20521832e-03]\n",
      " [ 7.97908635e-01]\n",
      " [ 8.24766288e-01]\n",
      " [ 9.75834256e-02]\n",
      " [ 8.37236143e-01]\n",
      " [ 1.17093258e+00]\n",
      " [ 9.06119023e-01]\n",
      " [ 9.18195015e-01]\n",
      " [ 7.43376141e-01]\n",
      " [ 9.94792426e-01]\n",
      " [-4.98299303e-03]\n",
      " [ 9.37908042e-01]\n",
      " [ 8.13915517e-01]\n",
      " [-3.49990223e-03]\n",
      " [ 8.50988909e-01]\n",
      " [-4.10898331e-03]\n",
      " [-4.58024262e-05]\n",
      " [ 7.73972685e-01]\n",
      " [ 9.93010538e-01]\n",
      " [ 1.05350229e+00]\n",
      " [ 1.03430622e+00]\n",
      " [ 8.03699068e-01]\n",
      " [ 1.12435707e+00]\n",
      " [ 1.14530915e-01]\n",
      " [-1.93673834e-03]\n",
      " [ 7.06786712e-01]\n",
      " [ 8.76279466e-01]\n",
      " [ 7.39945662e-01]\n",
      " [ 8.12028000e-03]\n",
      " [-2.02599690e-03]\n",
      " [ 6.44797187e-01]\n",
      " [ 5.31084741e-01]\n",
      " [ 2.08759528e-01]\n",
      " [ 3.26949192e-01]\n",
      " [ 1.11619914e+00]\n",
      " [ 9.10145659e-01]\n",
      " [ 9.53065147e-01]\n",
      " [ 7.79648297e-01]\n",
      " [ 4.76762020e-01]\n",
      " [ 8.66232773e-01]\n",
      " [ 8.00994155e-01]\n",
      " [ 1.02887305e+00]\n",
      " [ 7.53666874e-01]\n",
      " [ 7.60391223e-02]\n",
      " [ 8.88231865e-01]\n",
      " [-3.55575550e-03]\n",
      " [ 9.46610288e-01]\n",
      " [ 8.13626027e-01]\n",
      " [-4.80214940e-04]\n",
      " [ 1.11070683e+00]\n",
      " [ 1.05722469e+00]\n",
      " [ 8.43348314e-01]\n",
      " [-9.24117391e-03]\n",
      " [ 1.10570821e+00]\n",
      " [ 8.31842697e-01]\n",
      " [ 1.12598124e+00]\n",
      " [-3.83040376e-03]\n",
      " [ 7.20640702e-01]\n",
      " [ 1.05122100e+00]\n",
      " [-5.63340280e-03]\n",
      " [ 1.23816420e+00]\n",
      " [ 7.18226217e-01]\n",
      " [ 1.02960332e+00]\n",
      " [ 4.86876518e-01]\n",
      " [ 8.24351440e-01]\n",
      " [ 6.69783333e-01]\n",
      " [-7.41118039e-03]\n",
      " [ 6.53470736e-01]\n",
      " [ 7.07935368e-01]\n",
      " [ 8.13237071e-01]\n",
      " [ 7.71281107e-01]\n",
      " [ 4.06509863e-01]\n",
      " [ 1.65288981e-01]\n",
      " [ 9.64266917e-01]\n",
      " [ 7.94365287e-01]\n",
      " [ 1.02175163e+00]\n",
      " [ 4.28171270e-01]\n",
      " [-4.39912904e-03]\n",
      " [ 1.07482032e+00]\n",
      " [ 7.31649892e-01]\n",
      " [ 7.51404663e-01]\n",
      " [ 9.43896636e-01]\n",
      " [ 7.28855243e-01]\n",
      " [ 3.98057371e-01]\n",
      " [ 9.26871078e-01]\n",
      " [ 4.81771360e-01]\n",
      " [ 7.61078609e-01]\n",
      " [-2.38402281e-03]\n",
      " [ 7.49867295e-01]\n",
      " [ 7.14247819e-01]\n",
      " [ 9.06766890e-01]\n",
      " [ 1.14015519e+00]\n",
      " [ 4.88593043e-01]\n",
      " [-1.00638785e-03]\n",
      " [ 1.07275505e+00]\n",
      " [ 4.21809823e-01]\n",
      " [ 9.45669711e-01]\n",
      " [ 9.28026839e-01]\n",
      " [ 7.76627591e-01]\n",
      " [ 6.82802670e-01]\n",
      " [-3.82712704e-03]\n",
      " [-1.78015904e-03]\n",
      " [ 1.04308282e+00]\n",
      " [ 7.88636365e-01]\n",
      " [ 9.23234075e-01]\n",
      " [ 8.11021667e-01]\n",
      " [ 8.03197318e-01]\n",
      " [-2.95205816e-03]\n",
      " [ 6.53303152e-01]\n",
      " [ 1.11650215e+00]\n",
      " [ 1.05137987e+00]\n",
      " [ 7.37139609e-01]\n",
      " [ 8.73557865e-01]\n",
      " [ 1.08766001e+00]\n",
      " [ 8.61119261e-01]\n",
      " [ 9.97990933e-01]\n",
      " [ 5.72383153e-02]\n",
      " [ 8.07472059e-01]\n",
      " [ 8.48845546e-01]\n",
      " [ 2.69948845e-01]\n",
      " [ 9.06629351e-03]\n",
      " [ 5.70041299e-02]\n",
      " [-4.89916168e-03]\n",
      " [ 7.37871070e-01]\n",
      " [-5.38247832e-03]\n",
      " [ 7.75640092e-01]\n",
      " [ 6.89014968e-01]\n",
      " [ 8.68491454e-01]\n",
      " [ 4.73503316e-01]\n",
      " [ 5.66448521e-01]\n",
      " [ 9.37956050e-01]\n",
      " [ 7.23007888e-02]\n",
      " [ 5.10984154e-01]\n",
      " [-1.15704045e-03]\n",
      " [ 1.56429181e-01]\n",
      " [-8.54130720e-03]\n",
      " [ 7.80711562e-01]\n",
      " [ 1.07320604e+00]\n",
      " [ 2.85462254e-01]\n",
      " [ 9.42958522e-01]\n",
      " [-4.87631877e-03]\n",
      " [ 8.52109335e-01]\n",
      " [ 6.44536023e-01]\n",
      " [-5.92066546e-04]\n",
      " [ 1.05132337e+00]\n",
      " [-5.64457484e-03]\n",
      " [ 9.53107627e-01]\n",
      " [ 1.11799674e+00]\n",
      " [ 7.56710684e-01]\n",
      " [ 9.38508941e-01]\n",
      " [ 1.17995437e+00]\n",
      " [ 2.14355550e-01]\n",
      " [ 8.32715673e-01]\n",
      " [-5.62211251e-03]\n",
      " [ 8.14172546e-01]\n",
      " [ 7.51585750e-01]\n",
      " [ 6.92370412e-01]\n",
      " [-2.39153533e-03]\n",
      " [ 1.06188502e+00]\n",
      " [-4.75468704e-03]\n",
      " [ 8.75902256e-01]\n",
      " [ 9.57635108e-03]\n",
      " [ 1.12473128e+00]\n",
      " [ 7.30596980e-01]\n",
      " [ 9.74517975e-01]\n",
      " [ 1.04144584e+00]\n",
      " [-2.19002879e-03]\n",
      " [ 7.30556925e-01]\n",
      " [ 9.59262598e-01]\n",
      " [ 1.07251343e+00]\n",
      " [ 7.25378881e-01]\n",
      " [ 8.10926745e-01]\n",
      " [ 3.26930839e-01]\n",
      " [-6.39457174e-03]\n",
      " [-1.49103158e-03]\n",
      " [-2.33113697e-03]\n",
      " [ 1.92509907e-01]\n",
      " [ 7.57408965e-01]\n",
      " [ 8.98959818e-01]\n",
      " [ 8.49924257e-01]\n",
      " [ 8.78092325e-01]\n",
      " [ 1.07708575e+00]\n",
      " [ 8.26655857e-01]\n",
      " [ 7.40999550e-01]\n",
      " [ 9.22616138e-01]\n",
      " [ 6.94550485e-01]\n",
      " [ 2.72674936e-01]\n",
      " [ 9.18405627e-01]\n",
      " [-1.24511721e-03]\n",
      " [-3.91948758e-03]\n",
      " [ 7.12562399e-01]\n",
      " [ 7.66391440e-01]\n",
      " [ 7.02622137e-01]\n",
      " [-6.08102026e-03]\n",
      " [-4.31624631e-03]\n",
      " [ 8.10521569e-01]\n",
      " [ 9.93702831e-01]\n",
      " [ 6.43701066e-01]\n",
      " [ 9.16908573e-02]\n",
      " [-6.56504057e-03]\n",
      " [ 8.70421439e-01]\n",
      " [ 1.00111643e+00]\n",
      " [ 1.49974853e-01]\n",
      " [-6.94489912e-03]\n",
      " [ 2.73828543e-01]\n",
      " [ 1.09858645e+00]\n",
      " [ 9.49895407e-01]\n",
      " [ 7.22936685e-01]\n",
      " [ 4.72893140e-01]\n",
      " [ 1.07736158e+00]\n",
      " [ 6.32230655e-01]\n",
      " [-5.12106627e-04]\n",
      " [ 9.33220143e-01]\n",
      " [ 7.63802684e-01]\n",
      " [-1.07961051e-03]\n",
      " [ 5.93070539e-01]\n",
      " [ 1.04845265e+00]\n",
      " [ 6.94052526e-01]\n",
      " [ 8.04613501e-01]\n",
      " [ 6.79578578e-01]\n",
      " [-2.69009227e-04]\n",
      " [-8.30253966e-03]\n",
      " [ 3.74422013e-01]\n",
      " [ 8.47491500e-01]\n",
      " [ 9.15836011e-01]\n",
      " [ 1.05822547e+00]\n",
      " [-1.63720642e-04]\n",
      " [ 6.61573615e-01]\n",
      " [-7.08236266e-03]\n",
      " [ 7.16882499e-01]\n",
      " [-6.70156462e-04]\n",
      " [-6.27885494e-03]\n",
      " [ 7.16892385e-01]\n",
      " [ 6.52609254e-01]\n",
      " [ 9.77805914e-01]\n",
      " [ 3.17356069e-01]\n",
      " [ 5.58353567e-01]\n",
      " [ 8.47914474e-01]\n",
      " [ 3.68691057e-01]\n",
      " [ 7.35860364e-01]\n",
      " [-1.90968807e-03]\n",
      " [ 8.42765987e-01]\n",
      " [ 6.36414526e-01]\n",
      " [ 7.41650372e-01]\n",
      " [-3.30841479e-04]\n",
      " [ 5.10022098e-01]\n",
      " [ 9.31544358e-01]\n",
      " [ 8.14857334e-01]\n",
      " [ 8.78941620e-01]\n",
      " [ 1.00677617e+00]\n",
      " [-3.99278098e-03]\n",
      " [ 8.29052415e-01]\n",
      " [-8.85519336e-04]\n",
      " [ 1.02199499e+00]\n",
      " [ 9.87707990e-01]\n",
      " [ 6.75476286e-01]\n",
      " [-3.03935330e-03]\n",
      " [ 2.27020374e-01]\n",
      " [ 1.13121787e+00]\n",
      " [ 8.91150186e-01]\n",
      " [ 1.04965731e+00]\n",
      " [ 2.64266481e-01]\n",
      " [-1.28511087e-03]\n",
      " [ 8.79433718e-01]\n",
      " [-8.01407777e-03]\n",
      " [-8.62093260e-04]\n",
      " [ 1.14013769e+00]\n",
      " [ 8.79270122e-01]\n",
      " [ 6.67430736e-01]\n",
      " [ 9.29447380e-01]\n",
      " [ 9.62499586e-01]\n",
      " [ 8.03132923e-01]\n",
      " [-4.67450441e-03]\n",
      " [ 9.32188122e-01]\n",
      " [ 1.08363330e+00]\n",
      " [ 1.01434634e+00]\n",
      " [ 5.19923460e-01]\n",
      " [ 6.35806890e-01]\n",
      " [ 5.85051372e-01]\n",
      " [ 7.49045114e-01]\n",
      " [ 6.18237605e-01]\n",
      " [ 9.78106146e-01]\n",
      " [ 3.65173384e-01]\n",
      " [ 9.51133789e-01]\n",
      " [ 2.82109770e-01]\n",
      " [-1.53029913e-03]\n",
      " [ 7.66160960e-01]\n",
      " [ 3.16235662e-01]\n",
      " [ 4.07989245e-01]\n",
      " [ 1.00015586e+00]\n",
      " [ 7.29139179e-01]\n",
      " [ 8.73072839e-01]\n",
      " [ 7.49552013e-01]\n",
      " [-1.55958621e-03]\n",
      " [ 7.83717731e-01]\n",
      " [ 9.47649231e-01]\n",
      " [ 7.21461644e-01]\n",
      " [-3.21588454e-03]\n",
      " [ 6.65665122e-01]\n",
      " [ 8.24427002e-01]\n",
      " [ 1.90385100e-01]\n",
      " [-7.89738457e-04]\n",
      " [ 8.85345921e-01]\n",
      " [ 7.50108395e-01]\n",
      " [-1.27454597e-03]\n",
      " [ 9.01974826e-01]\n",
      " [ 1.04849751e+00]\n",
      " [ 7.45637870e-01]\n",
      " [-3.00699144e-03]\n",
      " [ 8.93113794e-01]\n",
      " [ 8.50036747e-01]\n",
      " [ 5.50921818e-02]\n",
      " [ 9.69474924e-01]\n",
      " [ 1.23029344e+00]\n",
      " [ 1.15938841e+00]\n",
      " [ 8.59284832e-01]\n",
      " [ 1.11931972e+00]\n",
      " [ 8.32803818e-01]\n",
      " [ 3.87597886e-01]\n",
      " [ 9.64669394e-01]\n",
      " [-2.90687666e-03]\n",
      " [-1.13747536e-03]\n",
      " [ 5.93576403e-01]\n",
      " [ 2.91404313e-01]\n",
      " [ 5.55608365e-01]\n",
      " [ 6.65862671e-01]\n",
      " [-6.31694956e-03]\n",
      " [ 3.08996540e-01]\n",
      " [ 4.32480757e-02]\n",
      " [ 8.14877818e-01]\n",
      " [ 5.03789960e-01]\n",
      " [ 8.41095563e-01]\n",
      " [-5.64918111e-03]\n",
      " [ 6.12766205e-02]\n",
      " [ 8.11783011e-01]\n",
      " [ 1.19983582e+00]\n",
      " [ 7.57990537e-01]\n",
      " [ 1.12080084e+00]\n",
      " [ 7.32585405e-01]\n",
      " [ 8.62816958e-01]\n",
      " [ 8.45824402e-01]\n",
      " [-1.24372382e-03]\n",
      " [-4.59730269e-03]\n",
      " [-6.50362553e-03]\n",
      " [ 2.21009202e-03]\n",
      " [ 6.62616819e-01]\n",
      " [ 3.90093210e-01]\n",
      " [ 7.65369082e-01]\n",
      " [ 3.22528545e-01]\n",
      " [ 8.98240651e-01]\n",
      " [ 8.14130409e-01]\n",
      " [ 8.71114808e-01]\n",
      " [ 1.17433027e+00]\n",
      " [ 2.71663099e-01]\n",
      " [-3.26303226e-03]\n",
      " [ 3.46411627e-01]\n",
      " [ 8.70430250e-01]\n",
      " [ 9.90009574e-01]\n",
      " [-1.26938368e-03]\n",
      " [ 1.02906514e+00]\n",
      " [ 9.53861417e-01]\n",
      " [ 9.25355179e-01]\n",
      " [ 8.88576146e-01]\n",
      " [ 8.67808052e-01]\n",
      " [ 3.73541052e-01]\n",
      " [ 9.48351188e-01]\n",
      " [ 1.09496390e+00]\n",
      " [ 7.33013402e-01]\n",
      " [ 7.99648779e-01]\n",
      " [ 6.74832620e-01]\n",
      " [ 7.75647127e-01]\n",
      " [ 1.86728763e-01]\n",
      " [ 1.03963654e+00]\n",
      " [ 7.04327796e-01]\n",
      " [ 8.39475688e-01]\n",
      " [ 9.75521471e-01]\n",
      " [ 9.50386218e-01]\n",
      " [ 8.85457908e-01]\n",
      " [ 8.21099967e-01]\n",
      " [ 8.66408679e-02]\n",
      " [ 8.67780550e-01]\n",
      " [ 3.00453608e-01]\n",
      " [-4.75667169e-03]\n",
      " [ 8.41167382e-01]\n",
      " [-6.89270461e-03]\n",
      " [ 8.22931778e-01]\n",
      " [ 6.92487637e-01]\n",
      " [ 1.10764478e+00]\n",
      " [ 8.47923506e-01]\n",
      " [-2.27745092e-03]\n",
      " [ 3.42792869e-01]\n",
      " [ 7.43007936e-01]\n",
      " [ 7.86130435e-01]\n",
      " [ 1.55637234e-01]\n",
      " [-8.08398086e-03]\n",
      " [-2.36654770e-03]\n",
      " [-7.15270494e-03]\n",
      " [ 9.27758996e-01]\n",
      " [ 7.58753025e-01]\n",
      " [ 1.04691203e+00]\n",
      " [ 8.17123976e-01]\n",
      " [ 2.50969764e-01]\n",
      " [ 7.14965672e-01]\n",
      " [-1.18544099e-03]\n",
      " [ 8.37148619e-01]\n",
      " [ 8.37770898e-01]\n",
      " [ 1.09193509e+00]\n",
      " [ 9.58793265e-01]\n",
      " [ 6.68104364e-01]\n",
      " [-3.62733866e-03]\n",
      " [-2.20062280e-03]\n",
      " [-2.66133287e-03]\n",
      " [ 7.59154354e-01]\n",
      " [-1.35959132e-03]\n",
      " [ 6.62600591e-01]\n",
      " [ 6.78870865e-01]\n",
      " [ 2.19224788e-01]\n",
      " [ 4.14181438e-01]\n",
      " [ 7.74148628e-01]\n",
      " [ 8.32515739e-01]\n",
      " [-5.49468463e-04]\n",
      " [-5.07130190e-03]\n",
      " [ 9.30609287e-01]\n",
      " [ 7.23607346e-01]\n",
      " [-5.58130952e-03]\n",
      " [ 9.41551434e-01]\n",
      " [ 2.03704502e-01]\n",
      " [ 8.05746910e-01]\n",
      " [ 2.12544623e-01]\n",
      " [ 8.80026304e-01]\n",
      " [-2.42058896e-03]\n",
      " [ 8.34003426e-01]\n",
      " [ 7.35345506e-01]\n",
      " [ 1.45115139e-01]\n",
      " [ 6.78942837e-01]\n",
      " [-1.12142930e-03]\n",
      " [-3.00989944e-03]\n",
      " [ 7.77511540e-01]\n",
      " [ 1.12109850e+00]\n",
      " [ 1.12340721e+00]\n",
      " [-5.09480767e-03]\n",
      " [ 7.51108633e-01]\n",
      " [ 1.01569052e+00]\n",
      " [ 1.08135084e+00]\n",
      " [ 4.85934311e-01]\n",
      " [ 7.85166979e-01]\n",
      " [ 1.14564374e+00]\n",
      " [ 3.92078939e-01]\n",
      " [ 1.85690419e-01]\n",
      " [ 2.61811229e-01]\n",
      " [ 7.53581819e-01]\n",
      " [ 8.50135138e-01]\n",
      " [ 3.12958712e-01]\n",
      " [ 8.35935996e-01]\n",
      " [ 7.72337155e-01]\n",
      " [ 1.01325665e+00]\n",
      " [-8.96281710e-04]\n",
      " [ 8.40013693e-01]\n",
      " [ 8.19226511e-01]\n",
      " [-1.15708068e-03]\n",
      " [-1.00702045e-03]\n",
      " [-2.97192149e-03]\n",
      " [ 4.28353721e-01]\n",
      " [ 8.16619518e-01]\n",
      " [ 7.06538199e-01]\n",
      " [ 9.70409244e-01]\n",
      " [ 1.18013916e+00]\n",
      " [ 1.19323374e-01]\n",
      " [ 9.50860136e-02]\n",
      " [ 1.02848249e+00]\n",
      " [ 6.60724684e-01]\n",
      " [ 9.74955605e-01]\n",
      " [ 5.43875423e-01]\n",
      " [-3.76649351e-03]\n",
      " [-2.08084657e-03]\n",
      " [ 7.27350496e-01]\n",
      " [ 6.97761215e-01]\n",
      " [ 8.82335610e-01]\n",
      " [-7.69040968e-04]\n",
      " [-7.65043540e-05]\n",
      " [-5.76175816e-03]\n",
      " [-2.30769523e-03]\n",
      " [ 9.78271996e-01]\n",
      " [ 8.29033319e-01]\n",
      " [ 1.44722505e-01]\n",
      " [-1.04678026e-03]\n",
      " [ 8.31740158e-01]\n",
      " [ 7.40505084e-01]\n",
      " [ 7.60485177e-01]\n",
      " [ 6.98369241e-01]\n",
      " [ 1.08736335e+00]\n",
      " [ 1.04544690e+00]\n",
      " [ 4.42816283e-01]\n",
      " [ 9.18585826e-01]\n",
      " [-5.92206334e-03]\n",
      " [-3.96755262e-03]\n",
      " [ 2.61687793e-01]\n",
      " [ 2.04491577e-01]\n",
      " [ 8.03780171e-01]\n",
      " [-5.52866397e-03]\n",
      " [ 7.61363064e-01]\n",
      " [ 4.56570110e-01]\n",
      " [-9.88876108e-04]\n",
      " [ 8.99920073e-01]\n",
      " [ 3.39388766e-01]\n",
      " [ 2.25280384e-01]\n",
      " [ 7.25231292e-01]\n",
      " [ 9.87298983e-01]\n",
      " [-6.14400052e-03]\n",
      " [ 4.78969343e-01]\n",
      " [ 1.00352223e+00]\n",
      " [ 7.01469560e-01]\n",
      " [-4.02209735e-03]\n",
      " [ 1.18188749e+00]\n",
      " [ 8.69281739e-01]\n",
      " [ 6.09723256e-01]\n",
      " [-2.41306328e-03]\n",
      " [ 1.10039901e+00]\n",
      " [ 2.66827597e-01]\n",
      " [ 1.01594003e+00]\n",
      " [ 1.03576365e+00]\n",
      " [-1.20110452e-05]\n",
      " [ 1.02661343e+00]\n",
      " [ 9.57790949e-01]\n",
      " [ 6.95860970e-01]\n",
      " [ 7.13808879e-01]\n",
      " [ 8.76247897e-01]\n",
      " [ 4.67262972e-01]\n",
      " [-7.33190425e-04]\n",
      " [ 6.78586430e-01]\n",
      " [ 1.17242050e+00]\n",
      " [ 1.09247081e+00]\n",
      " [-1.14595343e-03]\n",
      " [-4.15791930e-03]\n",
      " [ 5.91283689e-01]\n",
      " [ 4.81478105e-01]\n",
      " [ 3.99132241e-01]\n",
      " [-3.23734913e-03]\n",
      " [ 6.70320801e-01]\n",
      " [ 9.71730903e-01]\n",
      " [ 9.32458560e-01]\n",
      " [ 3.28144750e-01]\n",
      " [ 1.07484620e+00]\n",
      " [ 6.10274163e-01]\n",
      " [ 8.90925422e-01]\n",
      " [ 7.76633063e-01]\n",
      " [-2.36226539e-05]\n",
      " [-6.57660285e-03]\n",
      " [ 4.42675120e-02]\n",
      " [ 8.83605231e-01]\n",
      " [ 2.03680041e-01]\n",
      " [ 3.58663719e-01]\n",
      " [ 7.53459408e-01]\n",
      " [ 8.15179400e-01]\n",
      " [ 1.13352723e+00]\n",
      " [ 6.24054365e-01]\n",
      " [ 1.49234481e-01]\n",
      " [ 1.00924566e+00]\n",
      " [ 7.12211139e-01]\n",
      " [ 9.65967769e-01]\n",
      " [-2.70115200e-03]\n",
      " [ 6.97440204e-01]\n",
      " [ 7.42246233e-01]\n",
      " [ 9.89333744e-01]\n",
      " [ 6.99162316e-01]\n",
      " [ 9.08105438e-01]\n",
      " [ 9.84602803e-02]\n",
      " [ 8.86175100e-01]\n",
      " [ 9.74072600e-01]\n",
      " [ 6.07244219e-01]\n",
      " [ 6.20927671e-02]\n",
      " [ 9.22235281e-01]\n",
      " [ 9.42967630e-01]\n",
      " [ 6.92545028e-01]\n",
      " [ 9.89199384e-01]\n",
      " [ 7.07338243e-01]\n",
      " [ 3.68677320e-03]\n",
      " [ 7.21250728e-01]\n",
      " [ 1.95354535e-01]\n",
      " [ 8.70869543e-01]\n",
      " [ 8.55472370e-01]\n",
      " [ 6.53555254e-01]\n",
      " [ 6.42717247e-01]\n",
      " [ 6.14497012e-01]\n",
      " [ 1.03557371e+00]\n",
      " [ 2.38461867e-01]\n",
      " [ 7.34042277e-01]\n",
      " [ 7.92612233e-01]\n",
      " [ 7.22983904e-01]\n",
      " [ 1.00289315e+00]\n",
      " [-1.34025214e-03]\n",
      " [-6.76389207e-03]\n",
      " [-2.80658318e-03]\n",
      " [ 8.26954516e-01]\n",
      " [-3.76989384e-03]\n",
      " [ 1.00194554e+00]\n",
      " [ 7.13897818e-01]\n",
      " [ 7.68042929e-02]\n",
      " [ 8.13188606e-01]\n",
      " [-6.04956756e-04]\n",
      " [-2.70275782e-03]\n",
      " [ 5.10653110e-01]\n",
      " [ 7.35391167e-01]\n",
      " [ 6.03503047e-01]\n",
      " [ 9.54748551e-01]\n",
      " [ 3.05776387e-01]\n",
      " [-5.60680794e-04]\n",
      " [ 1.87198566e-01]\n",
      " [-7.18804569e-03]\n",
      " [ 8.02759944e-01]\n",
      " [ 1.04406159e+00]\n",
      " [ 2.76963902e-01]\n",
      " [ 1.07442277e+00]\n",
      " [ 1.01088998e+00]\n",
      " [ 7.70509442e-01]\n",
      " [-4.32694015e-03]\n",
      " [ 8.21197798e-01]\n",
      " [ 7.34895342e-01]\n",
      " [ 7.13230948e-01]\n",
      " [ 9.68724458e-01]\n",
      " [ 9.99729005e-01]\n",
      " [ 1.92911485e-01]\n",
      " [ 9.23273910e-01]\n",
      " [-1.49747169e-03]\n",
      " [-2.80875228e-03]\n",
      " [ 7.94195837e-01]\n",
      " [-8.08051191e-03]\n",
      " [ 6.30257194e-01]\n",
      " [-9.51306661e-03]\n",
      " [ 6.74207805e-01]\n",
      " [ 6.37655582e-01]\n",
      " [-7.55817419e-04]\n",
      " [-5.75338836e-04]\n",
      " [ 1.01926898e+00]\n",
      " [ 2.04931131e-01]\n",
      " [ 1.38264987e-01]\n",
      " [ 1.63991600e-01]\n",
      " [ 7.60739986e-01]\n",
      " [ 8.33246302e-01]\n",
      " [-1.06985786e-04]\n",
      " [ 6.86410955e-01]\n",
      " [-8.78444645e-04]\n",
      " [ 1.72010160e-02]\n",
      " [-5.00482846e-03]\n",
      " [-5.61214395e-03]\n",
      " [ 1.61633077e-01]\n",
      " [ 9.79942585e-01]\n",
      " [ 8.52608823e-01]\n",
      " [ 8.65916239e-01]\n",
      " [ 9.15311032e-01]\n",
      " [ 1.15448404e+00]\n",
      " [ 8.90195534e-01]\n",
      " [-5.03933190e-03]\n",
      " [ 1.15163804e+00]\n",
      " [ 4.13890511e-01]\n",
      " [ 6.95624067e-01]\n",
      " [ 9.13579214e-01]\n",
      " [ 7.24754705e-01]\n",
      " [ 7.89639362e-01]\n",
      " [ 1.00791275e-01]\n",
      " [ 1.02025235e+00]\n",
      " [-6.61421387e-03]\n",
      " [ 7.17310612e-01]\n",
      " [ 1.25509206e+00]\n",
      " [ 8.30724919e-01]\n",
      " [ 1.14952593e+00]\n",
      " [ 1.73614586e-01]\n",
      " [ 6.77552541e-01]\n",
      " [ 1.98353179e-01]\n",
      " [ 7.43406804e-01]\n",
      " [ 5.83914318e-02]\n",
      " [ 6.45191459e-01]\n",
      " [ 2.56190487e-01]\n",
      " [ 7.97762692e-01]\n",
      " [ 7.26325273e-01]\n",
      " [ 7.47756433e-01]\n",
      " [ 9.14285020e-01]\n",
      " [ 9.18197508e-01]\n",
      " [ 9.94406725e-01]\n",
      " [ 1.12597296e+00]\n",
      " [-3.73966272e-03]\n",
      " [ 8.44286766e-01]\n",
      " [ 8.76137642e-01]\n",
      " [ 3.97373757e-01]\n",
      " [ 9.70119361e-01]\n",
      " [ 1.09666010e+00]\n",
      " [ 8.38384264e-01]\n",
      " [ 5.05286406e-01]\n",
      " [ 3.91424820e-01]\n",
      " [ 7.52615308e-01]\n",
      " [-1.73839154e-03]\n",
      " [ 6.10478428e-01]\n",
      " [ 8.80576025e-01]\n",
      " [ 8.26215796e-01]\n",
      " [-2.89354064e-04]\n",
      " [-9.20368796e-04]\n",
      " [ 1.09007001e+00]\n",
      " [ 8.61118167e-01]\n",
      " [-7.64833585e-03]\n",
      " [-3.03186854e-03]\n",
      " [-2.01741717e-03]\n",
      " [-3.37331028e-03]\n",
      " [ 7.82310277e-01]\n",
      " [ 8.59079506e-01]\n",
      " [-3.54341837e-05]\n",
      " [-9.76688166e-05]\n",
      " [ 9.16962220e-01]\n",
      " [ 9.94201817e-01]\n",
      " [ 9.31413254e-01]\n",
      " [ 8.85978424e-01]\n",
      " [ 2.53308046e-01]\n",
      " [ 4.81111225e-02]\n",
      " [-2.76631891e-05]\n",
      " [ 8.40459520e-01]\n",
      " [ 8.82228697e-01]\n",
      " [ 7.12781268e-01]\n",
      " [ 7.43362438e-01]\n",
      " [ 9.94450542e-01]\n",
      " [-2.52676731e-03]\n",
      " [ 8.66825547e-01]\n",
      " [ 8.41921683e-01]\n",
      " [ 7.12924076e-01]\n",
      " [ 9.49987975e-01]\n",
      " [ 5.90284272e-01]\n",
      " [ 1.61259431e-01]\n",
      " [ 7.08610723e-01]\n",
      " [-5.18557697e-03]\n",
      " [ 1.02480644e+00]\n",
      " [ 9.16445881e-01]\n",
      " [ 7.49286448e-01]\n",
      " [ 2.31119785e-01]\n",
      " [ 5.52066197e-01]\n",
      " [ 6.98042676e-01]\n",
      " [ 7.41922462e-01]\n",
      " [ 1.02171252e+00]\n",
      " [-1.57169753e-04]\n",
      " [ 1.07402688e+00]\n",
      " [ 1.12577400e+00]\n",
      " [ 7.85327781e-01]\n",
      " [ 7.97999281e-01]\n",
      " [ 1.07925609e+00]\n",
      " [ 8.94152439e-01]\n",
      " [-2.98265692e-03]\n",
      " [ 9.32863872e-01]\n",
      " [-4.27941245e-03]\n",
      " [ 7.04984066e-01]\n",
      " [-1.34754739e-03]\n",
      " [-1.10658085e-03]\n",
      " [ 1.05919175e+00]\n",
      " [ 8.63992371e-01]\n",
      " [-1.04199269e-03]\n",
      " [-1.14128161e-03]\n",
      " [ 3.19873207e-01]\n",
      " [ 8.67187468e-01]\n",
      " [ 9.06234350e-01]\n",
      " [ 7.55472104e-01]\n",
      " [ 7.44874922e-01]\n",
      " [ 8.45091762e-01]\n",
      " [-1.38074081e-03]\n",
      " [ 1.10421264e+00]\n",
      " [ 8.20223035e-01]\n",
      " [-5.11671776e-03]\n",
      " [ 2.97622456e-01]\n",
      " [ 1.07962704e+00]\n",
      " [ 2.00318025e-01]\n",
      " [-6.57262463e-03]\n",
      " [ 7.15550797e-01]\n",
      " [ 1.01298397e+00]\n",
      " [ 7.69075382e-01]\n",
      " [ 9.87004243e-01]\n",
      " [-1.84746999e-03]\n",
      " [ 1.14754697e+00]\n",
      " [ 9.05057850e-01]\n",
      " [ 9.07235138e-01]\n",
      " [ 8.03252759e-01]\n",
      " [ 9.16180566e-01]\n",
      " [ 1.20584448e+00]\n",
      " [ 8.22425474e-01]\n",
      " [ 1.14650076e+00]\n",
      " [-5.79793372e-04]\n",
      " [ 8.17302653e-01]\n",
      " [-8.23754177e-04]\n",
      " [ 7.60860098e-01]\n",
      " [ 1.06717898e+00]\n",
      " [-3.30580750e-03]\n",
      " [ 4.69686753e-01]\n",
      " [-3.41927620e-04]\n",
      " [ 4.01084692e-01]\n",
      " [-4.46569109e-03]\n",
      " [ 7.33007963e-01]\n",
      " [ 6.89217454e-01]\n",
      " [ 2.70471071e-01]\n",
      " [ 2.66589695e-01]\n",
      " [-1.69400695e-04]\n",
      " [ 3.32057875e-01]\n",
      " [ 1.13029119e+00]\n",
      " [ 7.08918478e-01]\n",
      " [ 1.09180246e+00]\n",
      " [ 8.78119641e-01]\n",
      " [ 8.17332223e-01]\n",
      " [ 1.01613606e+00]\n",
      " [ 8.24580319e-01]\n",
      " [ 1.11885802e+00]\n",
      " [ 5.15441432e-02]\n",
      " [ 7.61432414e-01]\n",
      " [ 7.38574003e-01]\n",
      " [ 5.48778223e-02]\n",
      " [ 1.01607045e+00]\n",
      " [ 5.32884568e-01]\n",
      " [ 1.14598293e+00]\n",
      " [ 1.23643671e+00]\n",
      " [ 7.89173226e-01]\n",
      " [ 1.05548040e-01]\n",
      " [-4.09439959e-03]\n",
      " [ 7.69384613e-01]\n",
      " [ 9.79047819e-01]\n",
      " [ 9.06304999e-01]\n",
      " [ 3.07566909e-02]\n",
      " [-4.03868191e-03]\n",
      " [ 7.40221864e-01]\n",
      " [-2.01571797e-03]\n",
      " [-3.54779034e-03]\n",
      " [ 7.98983316e-01]\n",
      " [ 7.07389360e-01]\n",
      " [ 4.09245340e-01]\n",
      " [ 4.31109731e-01]\n",
      " [-7.96302478e-04]\n",
      " [-2.91502725e-04]\n",
      " [-3.24648492e-03]\n",
      " [ 7.38079564e-01]\n",
      " [-3.97077210e-03]\n",
      " [-3.97503579e-03]\n",
      " [ 9.18402143e-01]\n",
      " [ 8.08940390e-01]\n",
      " [ 1.06739013e+00]\n",
      " [ 5.81038863e-02]\n",
      " [ 8.69131782e-01]\n",
      " [ 1.55882480e-01]\n",
      " [-5.85795838e-03]\n",
      " [ 3.38757988e-01]\n",
      " [-7.18246830e-03]\n",
      " [ 4.85527121e-01]\n",
      " [ 8.60662600e-01]\n",
      " [ 9.41307833e-01]\n",
      " [ 6.96049856e-01]\n",
      " [ 7.20567422e-01]\n",
      " [-7.51663677e-03]\n",
      " [ 9.71023954e-01]\n",
      " [ 1.16503839e-01]\n",
      " [ 9.07929721e-01]\n",
      " [-1.69508364e-03]\n",
      " [ 1.06910391e+00]\n",
      " [ 1.07693091e+00]\n",
      " [-1.99472914e-04]\n",
      " [-1.83664652e-03]\n",
      " [ 9.84961410e-01]\n",
      " [ 8.64652667e-01]\n",
      " [ 2.09162372e-01]\n",
      " [-8.15250039e-03]\n",
      " [ 7.91942243e-01]\n",
      " [ 7.74128516e-01]\n",
      " [ 8.75561521e-01]\n",
      " [ 1.07594602e+00]\n",
      " [-4.52446756e-03]\n",
      " [ 7.42531691e-01]\n",
      " [-4.25963476e-03]\n",
      " [-1.66667464e-05]\n",
      " [ 6.52928140e-01]\n",
      " [ 8.82330860e-01]\n",
      " [-1.53794904e-03]\n",
      " [ 8.35705063e-01]\n",
      " [ 1.07627503e+00]\n",
      " [ 7.26092531e-01]\n",
      " [ 1.11980109e+00]\n",
      " [ 3.25985536e-01]\n",
      " [ 1.01808368e+00]\n",
      " [ 1.02621981e-01]\n",
      " [ 7.22058216e-01]\n",
      " [ 7.65734098e-01]\n",
      " [ 7.63663728e-01]\n",
      " [-4.22645779e-03]\n",
      " [ 2.83048135e-01]\n",
      " [ 5.96245617e-01]\n",
      " [ 4.83055319e-01]\n",
      " [ 5.83613470e-01]\n",
      " [ 8.17128558e-01]\n",
      " [-1.50438203e-04]\n",
      " [ 9.62831407e-01]\n",
      " [ 8.04194288e-01]\n",
      " [ 7.89867005e-01]\n",
      " [ 8.19673720e-01]\n",
      " [ 8.40848535e-01]\n",
      " [ 7.23704904e-01]\n",
      " [ 1.08520349e+00]\n",
      " [ 1.58542039e-01]\n",
      " [ 6.92269611e-01]\n",
      " [-1.14294120e-04]\n",
      " [ 7.63859946e-01]\n",
      " [ 4.02271622e-01]\n",
      " [ 9.49152064e-01]\n",
      " [ 1.10160395e+00]\n",
      " [ 8.05102115e-01]\n",
      " [-2.60351925e-04]\n",
      " [-3.32114096e-03]\n",
      " [ 9.60629375e-01]\n",
      " [ 8.44804145e-01]\n",
      " [ 1.00154387e+00]\n",
      " [ 7.65205141e-01]\n",
      " [-6.43032602e-03]\n",
      " [ 9.35823731e-01]\n",
      " [-7.32954711e-03]\n",
      " [ 6.98644425e-01]\n",
      " [ 1.86270406e-01]\n",
      " [ 7.95107100e-01]\n",
      " [ 9.72141488e-01]\n",
      " [ 8.03324092e-01]\n",
      " [ 1.03852594e+00]\n",
      " [-5.22444787e-03]\n",
      " [-3.89424940e-03]\n",
      " [ 8.61018273e-01]\n",
      " [ 9.58591713e-01]\n",
      " [ 6.97773717e-01]\n",
      " [ 9.86452173e-01]\n",
      " [ 7.67807341e-01]\n",
      " [ 1.81907247e-01]\n",
      " [-5.88040502e-03]\n",
      " [ 4.03712916e-01]\n",
      " [ 8.92631110e-01]\n",
      " [ 7.26317907e-01]\n",
      " [ 1.14463852e+00]\n",
      " [ 8.82914341e-01]\n",
      " [ 1.07099329e+00]\n",
      " [ 8.18983704e-01]\n",
      " [ 8.86411394e-01]\n",
      " [ 8.00233892e-01]\n",
      " [ 6.16485872e-01]\n",
      " [-9.32559620e-03]\n",
      " [ 7.84085600e-01]\n",
      " [ 8.43798914e-01]\n",
      " [ 7.60125085e-01]\n",
      " [-3.15935499e-03]\n",
      " [ 3.14038459e-01]\n",
      " [ 9.66715211e-01]\n",
      " [ 7.84113285e-01]\n",
      " [ 7.96974827e-01]\n",
      " [ 7.97680185e-01]\n",
      " [ 3.32257605e-01]\n",
      " [-2.89900884e-03]\n",
      " [ 1.24894398e+00]\n",
      " [ 3.80425713e-02]\n",
      " [ 8.08380591e-01]\n",
      " [ 1.04497533e+00]\n",
      " [ 9.38811511e-01]\n",
      " [ 1.07919356e+00]\n",
      " [ 1.75177044e-01]\n",
      " [ 7.86069656e-01]\n",
      " [ 2.93442615e-01]\n",
      " [ 7.77370476e-01]\n",
      " [-5.88313659e-04]\n",
      " [ 5.60275759e-01]\n",
      " [ 7.97221702e-01]\n",
      " [ 8.91383579e-01]\n",
      " [ 3.49735846e-01]\n",
      " [-7.21838350e-05]\n",
      " [-7.01428839e-03]\n",
      " [-1.05193495e-03]\n",
      " [ 5.20603806e-01]\n",
      " [ 1.20357913e-01]\n",
      " [ 1.02304850e+00]\n",
      " [-3.07281696e-03]\n",
      " [ 8.33595736e-01]]\n"
     ]
    }
   ],
   "source": [
    "y_pred = neuron.forward_pass(X)\n",
    "print(y_pred)"
   ]
  },
  {
   "cell_type": "code",
   "execution_count": 26,
   "metadata": {},
   "outputs": [
    {
     "name": "stdout",
     "output_type": "stream",
     "text": [
      "w = [[ 0.95937672]\n",
      " [-1.31665107]]\n",
      "b = [0.31123387]\n"
     ]
    }
   ],
   "source": [
    "neuron.backward_pass(X, y, y_pred)\n",
    "\n",
    "\n",
    "print (\"w = \" + str(neuron.w))\n",
    "print (\"b = \" + str(neuron.b))"
   ]
  },
  {
   "cell_type": "code",
   "execution_count": null,
   "metadata": {},
   "outputs": [],
   "source": [
    "round(1.3930587, 4)"
   ]
  },
  {
   "cell_type": "markdown",
   "metadata": {
    "colab_type": "text",
    "id": "lWBO-RI_Huqz"
   },
   "source": [
    "**(для теста) Проверка лосса:**"
   ]
  },
  {
   "cell_type": "markdown",
   "metadata": {
    "colab_type": "text",
    "id": "GqXREMzNHuq0"
   },
   "source": [
    "Выведите сумму первых пяти и последних пяти значений loss'а при обучении с num_epochs=10000, округлите до 4-го знака после запятой:"
   ]
  },
  {
   "cell_type": "markdown",
   "metadata": {
    "colab_type": "text",
    "id": "FqjdJ0Bt9Snq"
   },
   "source": [
    "ВАЖНО! Если вы перезапускали находящуюся выше  ячейку несколько раз, то для переноса реультатов в тест на Canvas просьба запустить эту ячейку \"с нуля\", перезапустив Runtime, поскольку `random` вносит случайность. В тесте есть несколько вариантов ответа, на случай, если Вы всё же запустили не с первого раза, но лучше не копировать ответ в тест после, например, 10 запусков этой и последующих таких ячеек."
   ]
  },
  {
   "cell_type": "code",
   "execution_count": 27,
   "metadata": {
    "colab": {},
    "colab_type": "code",
    "id": "4QDRx6efHuq1"
   },
   "outputs": [
    {
     "name": "stdout",
     "output_type": "stream",
     "text": [
      "[0.2861, 0.2851, 0.2842, 0.2833, 0.2823] [0.025, 0.025, 0.025, 0.025, 0.025]\n"
     ]
    }
   ],
   "source": [
    "first_5_2 = [round(x, 4) for x in Loss_values[:5]]\n",
    "last_5_2 = [round(x, 4) for x in Loss_values[-5:]]\n",
    "\n",
    "print(first_5_2, last_5_2)\n"
   ]
  },
  {
   "cell_type": "code",
   "execution_count": 28,
   "metadata": {},
   "outputs": [
    {
     "data": {
      "text/plain": [
       "1.546"
      ]
     },
     "execution_count": 28,
     "metadata": {},
     "output_type": "execute_result"
    }
   ],
   "source": [
    "round(sum(first_5_2) + sum(last_5_2), 4)"
   ]
  },
  {
   "cell_type": "markdown",
   "metadata": {
    "colab_type": "text",
    "id": "zvj3t74RHuq3"
   },
   "source": [
    "Посмотрим, как предсказывает этот нейрон:"
   ]
  },
  {
   "cell_type": "code",
   "execution_count": null,
   "metadata": {
    "colab": {},
    "colab_type": "code",
    "id": "jfFexRvcHuq5",
    "scrolled": false
   },
   "outputs": [],
   "source": [
    "plt.figure(figsize=(10, 8))\n",
    "plt.scatter(data.iloc[:, 0], data.iloc[:, 1], c=np.array(neuron.forward_pass(X) > 0.5).ravel(), cmap='spring')\n",
    "plt.title('Яблоки и груши', fontsize=15)\n",
    "plt.xlabel('симметричность', fontsize=14)\n",
    "plt.ylabel('желтизна', fontsize=14)\n",
    "plt.show();"
   ]
  },
  {
   "cell_type": "markdown",
   "metadata": {
    "colab_type": "text",
    "id": "IgTac_vFHuq8"
   },
   "source": [
    "**Плюсы LeakyReLU:**"
   ]
  },
  {
   "cell_type": "markdown",
   "metadata": {
    "colab_type": "text",
    "id": "iAw-tzuLHuq9"
   },
   "source": [
    "* дифференцируемая (с доопределнием в нуле)\n",
    "* нет проблемы затухающих градиентов, как в сигмоиде\n",
    "* нет проблемы \"мёртвых нейронов\", как в ReLU"
   ]
  },
  {
   "cell_type": "markdown",
   "metadata": {
    "colab_type": "text",
    "id": "CMUGymwyHuq_"
   },
   "source": [
    "**Возможные минусы LeakyReLU:**"
   ]
  },
  {
   "cell_type": "markdown",
   "metadata": {
    "colab_type": "text",
    "id": "uQyqD8-LHurA"
   },
   "source": [
    "* не центрирована около 0 (может мешать скорости сходимсти)\n",
    "* немного не устойчива к \"шуму\" (см. лекции Стэнфорда)"
   ]
  },
  {
   "cell_type": "markdown",
   "metadata": {
    "colab_type": "text",
    "id": "e7k07EGyHurB"
   },
   "source": [
    "<h2 style=\"text-align: center;\"><b>Нейрон с ELU (Exponential Linear Unit)</a></b></h2>  \n",
    "<h2 style=\"text-align: center;\"><b>(необязательная часть, проверяться не будет)</b></h2>"
   ]
  },
  {
   "cell_type": "markdown",
   "metadata": {
    "colab_type": "text",
    "id": "dWH3Zk2zHurB"
   },
   "source": [
    "ELU -- не так давно предложенная (в 2015 году) функция активации, которая, как говорят авторы статьи, лучше LeakyReLU. Вот формула ELU:\n",
    "\n",
    "\\begin{equation*}\n",
    "ELU(\\alpha, x) =\n",
    " \\begin{cases}\n",
    "   \\alpha (e^x - 1), &\\text{$x \\le 0$}\\\\\n",
    "   x, &\\text{$x \\gt 0$}\n",
    " \\end{cases}\n",
    "\\end{equation*}\n",
    "\n",
    "где $\\alpha$ -- маленькое число от 0 до 1.\n",
    "\n",
    "Производная здесь берётся так же, но вместо нуля будет $\\alpha$:\n",
    "\n",
    "\\begin{equation*}\n",
    "ELU'(x) = \n",
    " \\begin{cases}\n",
    "   ELU(\\alpha, x) + \\alpha, &\\text{$x \\le 0$}\\\\\n",
    "   1, &\\text{$x \\gt 0$}\n",
    " \\end{cases}\n",
    "\\end{equation*}\n",
    "\n",
    "Здесь в производной использован постой трюк -- сделано $- \\alpha + \\alpha$, чтобы вычислять было проще.\n",
    "\n",
    "График этой функции:\n",
    "\n",
    "<img src=\"http://p0.ifengimg.com/pmop/2017/0907/A004001DD141881BFD8AD62E5D31028C3BE3FAD1_size14_w446_h354.png\" width=500 height=400>\n",
    "\n",
    "Подставим LeakyReLu в Loss:\n",
    "\n",
    "$$Loss(\\hat{y}, y) = \\frac{1}{2n}\\sum_{i=1}^{n} (\\hat{y_i} - y_i)^2 = \\frac{1}{2n}\\sum_{i=1}^{n} (ELU(\\alpha, w \\cdot X_i) - y_i)^2 = \\begin{equation*}\n",
    "\\frac{1}{2n}\\sum_{i=1}^{n} \n",
    " \\begin{cases}\n",
    "   (\\alpha (e^{w \\cdot X_i} - 1) - y_i)^2, &{w \\cdot X_i \\le 0}\\\\\n",
    "   (w \\cdot X_i - y_i)^2, &{w \\cdot X_i \\gt 0}\n",
    " \\end{cases}\n",
    "\\end{equation*}$$  \n",
    "\n",
    "Формула для обновления весов при градиентном спуске.. Здесь вам нужно выписать её самим, и это чуть сложнее, чем раньше. Брать производную \"в лоб\" некрасиво и неудобно. Нужно воспользоваться **правилом цепочки**, оно же **правило взятия производной сложной функции**:\n",
    "\n",
    "$$ \\frac{\\partial Loss}{\\partial w} = \\begin{equation*}\n",
    "\\frac{1}{n}\\sum_{i=1}^{n} \n",
    " \\begin{cases}\n",
    "   , &{w \\cdot X_i \\le 0}\\\\\n",
    "   , &{w \\cdot X_i \\gt 0}\n",
    " \\end{cases}\n",
    "\\end{equation*}$$\n",
    "\n",
    "* Реализуйте ELU и её производную:"
   ]
  },
  {
   "cell_type": "code",
   "execution_count": null,
   "metadata": {
    "colab": {},
    "colab_type": "code",
    "id": "u7rc5PaI_tb4"
   },
   "outputs": [],
   "source": [
    "def elu(x, alpha=0.01):\n",
    "    \"\"\"ELU-функция\"\"\"\n",
    "    \n",
    "    if x <= 0:\n",
    "        return alpha * (np.exp(x) - 1)\n",
    "    else:\n",
    "        return x"
   ]
  },
  {
   "cell_type": "code",
   "execution_count": null,
   "metadata": {
    "colab": {},
    "colab_type": "code",
    "id": "63ORnClM_0gf"
   },
   "outputs": [],
   "source": [
    "def elu_derivative(x, alpha=0.01):\n",
    "    \"\"\"Производная ELU\"\"\"\n",
    "    if x <= 0:\n",
    "        return elu(x, alpha) + alpha\n",
    "    else:\n",
    "        return 1"
   ]
  },
  {
   "cell_type": "markdown",
   "metadata": {
    "colab_type": "text",
    "id": "Wo5dq-2X_0ze"
   },
   "source": [
    "Теперь нужно написать нейрон с ELU функцией активации:"
   ]
  },
  {
   "cell_type": "code",
   "execution_count": null,
   "metadata": {
    "colab": {},
    "colab_type": "code",
    "id": "9lTuu7gG_06W"
   },
   "outputs": [],
   "source": [
    "class NeuronELU:\n",
    "    def __init__(self, w=None, b=0):\n",
    "        \"\"\"\n",
    "        :param: w -- вектор весов\n",
    "        :param: b -- смещение\n",
    "        \"\"\"\n",
    "        # Пока что мы не знаем размер матрицы X, а значит не знаем, сколько будет весов\n",
    "        self.w = w\n",
    "        self.b = b\n",
    "        \n",
    "    def activate(self, x, alpha=0.01):\n",
    "        return np.where(x > 0, x, alpha * (np.exp(x) -1))\n",
    "        \n",
    "    def forward_pass(self, X):\n",
    "        \"\"\"\n",
    "        Рассчитывает ответ нейрона при предъявлении набора объектов\n",
    "        :param: X -- матрица примеров размера (n, m), каждая строка - отдельный объект\n",
    "        :return: вектор размера (n, 1) из нулей и единиц с ответами перцептрона \n",
    "        \"\"\"\n",
    "        n = X.shape[0]\n",
    "        y_pred = np.zeros((n, 1))  # y_pred == y_predicted - предсказанные классы\n",
    "        \n",
    "        y_pred = self.activate(X @ self.w.reshape(X.shape[1], 1))\n",
    "        \n",
    "        return y_pred.reshape(-1, 1)\n",
    "        \n",
    "        \n",
    "    \n",
    "    def backward_pass(self, X, y, y_pred, learning_rate=0.005):\n",
    "        \"\"\"\n",
    "        Обновляет значения весов нейрона в соответствии с этим объектом\n",
    "        :param: X -- матрица входов размера (n, m)\n",
    "                y -- вектор правильных ответов размера (n, 1)\n",
    "                learning_rate - \"скорость обучения\" (символ alpha в формулах выше)\n",
    "        В этом методе ничего возвращать не нужно, только правильно поменять веса\n",
    "        с помощью градиентного спуска.\n",
    "        \"\"\"\n",
    "        n = len(y)\n",
    "        y = np.array(y).reshape(-1, 1)\n",
    "        alpha = 0.01\n",
    "        \n",
    "        print(X.T.shape)\n",
    "        print((y_pred - y).shape)\n",
    "        self.w = self.w - learning_rate * (1/n) * np.where(y_pred <= 0, alpha * (np.exp(y_pred)) * y_pred - y,\n",
    "                                                           X @ ((y_pred - y).reshape(X.shape[1], -1)))\n",
    "    \n",
    "    def fit(self, X, y, num_epochs=300):\n",
    "        \"\"\"\n",
    "        Спускаемся в минимум\n",
    "        :param: X -- матрица объектов размера (n, m)\n",
    "                y -- вектор правильных ответов размера (n, 1)\n",
    "                num_epochs -- количество итераций обучения\n",
    "        :return: losses -- вектор значений функции потерь\n",
    "        \"\"\"\n",
    "#         self.w = np.zeros((X.shape[1], 1))  # столбец (m, 1)\n",
    "#         self.b = 0  # смещение (число)\n",
    "        Loss_values = []  # значения функции потерь на различных итерациях обновления весов\n",
    "        \n",
    "        for i in range(num_epochs):\n",
    "            y_pred = self.forward_pass(X)\n",
    "            Loss_values.append(Loss(y_pred, y))\n",
    "            self.backward_pass(X, y, y_pred)\n",
    "        return Loss_values"
   ]
  },
  {
   "cell_type": "markdown",
   "metadata": {
    "colab_type": "text",
    "id": "jonYgSivHurP"
   },
   "source": [
    "***ПРИМЕЧАНИЕ***: пожалуйста, почаще проверяйте `.shape` у матриц и векторов: `self.w`, `X` и `y` внутри класса. Очень часто ошибка решается транспонированием или `.reshape()`'ом. Не забывайте проверять, что на что вы умножаете и какой вектор (какой размер) хотите получить на выходе -- это очень помогает не запутаться."
   ]
  },
  {
   "cell_type": "markdown",
   "metadata": {
    "colab_type": "text",
    "id": "pskXX7KVHurf"
   },
   "source": [
    "\"Яблоки и Груши\":"
   ]
  },
  {
   "cell_type": "code",
   "execution_count": null,
   "metadata": {
    "colab": {},
    "colab_type": "code",
    "id": "oSzTCZu_Hurh"
   },
   "outputs": [],
   "source": [
    "data = pd.read_csv(\"./data/apples_pears.csv\")\n",
    "plt.figure(figsize=(10, 8))\n",
    "plt.scatter(data.iloc[:, 0], data.iloc[:, 1], c=data['target'], cmap='rainbow')\n",
    "plt.title('Яблоки и груши', fontsize=15)\n",
    "plt.xlabel('симметричность', fontsize=14)\n",
    "plt.ylabel('желтизна', fontsize=14)\n",
    "plt.show();"
   ]
  },
  {
   "cell_type": "code",
   "execution_count": null,
   "metadata": {
    "colab": {},
    "colab_type": "code",
    "id": "B1upsgBzHurl"
   },
   "outputs": [],
   "source": [
    "X = data.iloc[:,:2].values  # матрица объекты-признаки\n",
    "y = data['target'].values.reshape((-1, 1))  # классы (столбец из нулей и единиц)"
   ]
  },
  {
   "cell_type": "markdown",
   "metadata": {
    "colab_type": "text",
    "id": "EsRToko0Hurp"
   },
   "source": [
    "Обучим нейрон, инициализировав случайно веса (поставьте 10000 итераций):"
   ]
  },
  {
   "cell_type": "code",
   "execution_count": null,
   "metadata": {
    "colab": {},
    "colab_type": "code",
    "id": "P6lOu_FbHurr"
   },
   "outputs": [],
   "source": [
    "%%time\n",
    "\n",
    "neuron = NeuronELU(w=np.random.rand(X.shape[1], 1), b=np.random.rand(1))\n",
    "Loss_values = neuron.fit(X, y, num_epochs=10000)\n",
    "\n",
    "plt.figure(figsize=(10, 8))\n",
    "plt.plot(Loss_values)\n",
    "plt.title('Функция потерь', fontsize=15)\n",
    "plt.xlabel('номер итерации', fontsize=14)\n",
    "plt.ylabel('$Loss(\\hat{y}, y)$', fontsize=14)\n",
    "plt.show()"
   ]
  },
  {
   "cell_type": "markdown",
   "metadata": {
    "colab_type": "text",
    "id": "L59jJs5ZHurt"
   },
   "source": [
    "**(для теста) Проверка лосса:**"
   ]
  },
  {
   "cell_type": "markdown",
   "metadata": {
    "colab_type": "text",
    "id": "yyWV15PSHuru"
   },
   "source": [
    "Выведите сумму первых пяти и последних пяти значений loss'а при обучении с num_epochs=10000, округлите до 4-го знака после запятой:"
   ]
  },
  {
   "cell_type": "code",
   "execution_count": null,
   "metadata": {
    "colab": {},
    "colab_type": "code",
    "id": "7yRpg7RMHurv"
   },
   "outputs": [],
   "source": [
    "<Ваш код здесь>"
   ]
  },
  {
   "cell_type": "markdown",
   "metadata": {
    "colab_type": "text",
    "id": "vF92uB8_Hurx"
   },
   "source": [
    "Посмотрим, как предсказывает этот нейрон:"
   ]
  },
  {
   "cell_type": "code",
   "execution_count": null,
   "metadata": {
    "colab": {},
    "colab_type": "code",
    "id": "CW7nCIEyHur2",
    "scrolled": false
   },
   "outputs": [],
   "source": [
    "plt.figure(figsize=(10, 8))\n",
    "plt.scatter(data.iloc[:, 0], data.iloc[:, 1], c=np.array(neuron.forward_pass(X) > 0.5).ravel(), cmap='spring')\n",
    "plt.title('Яблоки и груши', fontsize=15)\n",
    "plt.xlabel('симметричность', fontsize=14)\n",
    "plt.ylabel('желтизна', fontsize=14)\n",
    "plt.show();"
   ]
  },
  {
   "cell_type": "markdown",
   "metadata": {
    "colab_type": "text",
    "id": "MYiGj1wnHur4"
   },
   "source": [
    "**Плюсы ELU:**"
   ]
  },
  {
   "cell_type": "markdown",
   "metadata": {
    "colab_type": "text",
    "id": "xOGAh06uHur5"
   },
   "source": [
    "* дифференцируемая (с доопределнием в нуле)\n",
    "* нет проблемы затухающих градиентов, как в сигмоиде\n",
    "* нет проблемы \"мёртвых нейронов\", как в ReLU\n",
    "* более устойчива к \"шуму\" (см. лекции Стэнфорда)"
   ]
  },
  {
   "cell_type": "markdown",
   "metadata": {
    "colab_type": "text",
    "id": "r4doD89fHur6"
   },
   "source": [
    "**Возможные минусы ELU:**"
   ]
  },
  {
   "cell_type": "markdown",
   "metadata": {
    "colab_type": "text",
    "id": "AO4bvkKGHur6"
   },
   "source": [
    "* не очень хорошо центрирована около 0 (может мешать скорости сходимсти)\n",
    "* вычислительно дольше, чем ReLU и LeakyReLU"
   ]
  },
  {
   "cell_type": "markdown",
   "metadata": {
    "colab_type": "text",
    "id": "4_YkH_HDHur7"
   },
   "source": [
    "---"
   ]
  },
  {
   "cell_type": "markdown",
   "metadata": {
    "colab_type": "text",
    "id": "wQG-VZuUHur8"
   },
   "source": [
    "И напоследок -- все покемоны (почти):"
   ]
  },
  {
   "cell_type": "markdown",
   "metadata": {
    "colab_type": "text",
    "id": "F2JcPTqKHur-"
   },
   "source": [
    "<img src=\"http://cdn-images-1.medium.com/max/1600/1*DRKBmIlr7JowhSbqL6wngg.png\">"
   ]
  },
  {
   "cell_type": "markdown",
   "metadata": {
    "colab_type": "text",
    "id": "A82W6KU7HusA"
   },
   "source": [
    "Не хватает `SeLU()` и `Swish()`. Про них можно прочитать здесь: [SeLU](https://arxiv.org/pdf/1706.02515.pdf), [Swish](https://arxiv.org/pdf/1710.05941.pdf).\n",
    "\n",
    "`Tanh()` (тангенс гиперболический) используется редко, а `Maxout()` мы решили не рассматривать (так как, опять же, нами не было замечено, что он часто используется, однако про него ходят хорошие слухи).  "
   ]
  },
  {
   "cell_type": "markdown",
   "metadata": {
    "colab_type": "text",
    "id": "-PfNPtrZ31vq"
   },
   "source": [
    "---"
   ]
  },
  {
   "cell_type": "markdown",
   "metadata": {
    "colab_type": "text",
    "id": "EiQGCe9lHusC"
   },
   "source": [
    "Думаете, это все функции активации? Нет, ведь за функцию активации можно взять вообще почти любую функцию (которая, как вы полагаете, будет помогать обучению). Ещё больше функций активации вы можете [найти на википедии](https://en.wikipedia.org/wiki/Activation_function)."
   ]
  },
  {
   "cell_type": "markdown",
   "metadata": {
    "colab_type": "text",
    "id": "yhGNsWPQ9igf"
   },
   "source": [
    "<h3 style=\"text-align: center;\"><b>Полезные ссылки</b></h3>\n",
    "\n",
    "0). Обязательно прочитайте (если вам позволяет английский) эту статью от Стэнфорда: http://cs231n.github.io/neural-networks-1/\n",
    "\n",
    "1). Хорошая статья про функции активации: https://www.jeremyjordan.me/neural-networks-activation-functions/\n",
    "\n",
    "2). [Видео от Siraj Raval](https://www.youtube.com/watch?v=-7scQpLossT7uo)\n",
    "\n",
    "3). Современная статья про функции активации. Теперь на хайпе активация $swish(x) = x\\sigma (\\beta x)$: https://arxiv.org/pdf/1710.05941.pdf (кстати, при её поиске в некоторой степени использовался neural architecture search)\n",
    "\n",
    "4). SeLU имеет очень интересные, доказанные с помощью теории вероятностей свойства: https://arxiv.org/pdf/1706.02515.pdf (да, в этой статье 102 страницы)\n",
    "\n",
    "5). [Список функций активации из википедии](https://en.wikipedia.org/wiki/Activation_function)"
   ]
  }
 ],
 "metadata": {
  "colab": {
   "collapsed_sections": [],
   "name": "[homework]activations.ipynb",
   "provenance": [],
   "version": "0.3.2"
  },
  "kernelspec": {
   "display_name": "Python 3",
   "language": "python",
   "name": "python3"
  },
  "language_info": {
   "codemirror_mode": {
    "name": "ipython",
    "version": 3
   },
   "file_extension": ".py",
   "mimetype": "text/x-python",
   "name": "python",
   "nbconvert_exporter": "python",
   "pygments_lexer": "ipython3",
   "version": "3.6.5"
  }
 },
 "nbformat": 4,
 "nbformat_minor": 1
}
