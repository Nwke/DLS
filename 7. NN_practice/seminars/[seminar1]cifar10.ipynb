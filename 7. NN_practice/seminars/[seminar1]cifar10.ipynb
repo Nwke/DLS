{
 "cells": [
  {
   "cell_type": "markdown",
   "metadata": {},
   "source": [
    "<img src=\"https://s8.hostingkartinok.com/uploads/images/2018/08/308b49fcfbc619d629fe4604bceb67ac.jpg\" width=500, height=450>\n",
    "<h3 style=\"text-align: center;\"><b>Физтех-Школа Прикладной математики и информатики (ФПМИ) МФТИ</b></h3>"
   ]
  },
  {
   "cell_type": "markdown",
   "metadata": {},
   "source": [
    "---"
   ]
  },
  {
   "cell_type": "markdown",
   "metadata": {},
   "source": [
    "<h2 style=\"text-align: center;\"><b>Семинар 1: практическое занятие по обучению нейросетей (датасет CIFAR10)</b></h2>"
   ]
  },
  {
   "cell_type": "markdown",
   "metadata": {},
   "source": [
    "---"
   ]
  },
  {
   "cell_type": "code",
   "execution_count": 1,
   "metadata": {
    "colab": {},
    "colab_type": "code",
    "id": "Hgit3qqOf4hd"
   },
   "outputs": [],
   "source": [
    "import numpy as np\n",
    "import matplotlib.pyplot as plt\n",
    "\n",
    "from tqdm import tqdm_notebook\n",
    "\n",
    "import warnings\n",
    "warnings.filterwarnings(\"ignore\")\n",
    "\n",
    "import multiprocessing"
   ]
  },
  {
   "cell_type": "markdown",
   "metadata": {
    "colab_type": "text",
    "id": "CHUKPJJOf4hj"
   },
   "source": [
    "Сегодня мы построим свою сеть (простейший классификатор изображений), посчитаем loss и проведем обновление весов.\n",
    "\n",
    "\n",
    "Данные\n",
    "----------------\n",
    "Мы будем работать с набором картинок. Для работы с ними есть специальный пакет ``torchvision``. В нем уже содержатся функции-загрузчики таких датасетов, как ImageNet, MNIST, CIFAR10. С последним сегодня мы и будем работать. В нем содержатся картинки RGB 32х32 следующих классов: \n",
    "1. ‘airplane’\n",
    "2. ‘automobile’\n",
    "3. ‘bird’\n",
    "4. ‘cat’\n",
    "5. ‘deer’\n",
    "6. ‘dog’\n",
    "7. ‘frog’\n",
    "8. ‘horse’\n",
    "9. ‘ship’\n",
    "10. ‘truck’\n",
    "\n",
    "Обучение классификатора\n",
    "----------------------------\n",
    "\n",
    "План обучения классификатора:\n",
    "\n",
    "1. Загружаем и нормализуем данные при помощи пакета\n",
    "   ``torchvision``\n",
    "2. Объявляем нейронную сети\n",
    "3. Объявляем функцию потерь\n",
    "4. Тренируем сеть при помощи тренировочной выборки (train data)\n",
    "5. Тестируем сеть при помощи валидационной выборки (test data)\n",
    "\n",
    "----------------------------\n",
    "\n",
    "Импортируем нужные нам пакеты из библиотеки ``torch``\n",
    "\n",
    "\n"
   ]
  },
  {
   "cell_type": "code",
   "execution_count": 2,
   "metadata": {
    "colab": {},
    "colab_type": "code",
    "id": "E6h4kZ-if4hl"
   },
   "outputs": [],
   "source": [
    "import torch\n",
    "import torchvision\n",
    "from torch.autograd import Variable\n",
    "import torchvision.transforms as transforms"
   ]
  },
  {
   "cell_type": "code",
   "execution_count": 0,
   "metadata": {
    "colab": {},
    "colab_type": "code",
    "id": "5KmxZQREgApi"
   },
   "outputs": [],
   "source": [
    "# http://pytorch.org/\n",
    "from os.path import exists\n",
    "from wheel.pep425tags import get_abbr_impl, get_impl_ver, get_abi_tag\n",
    "platform = '{}{}-{}'.format(get_abbr_impl(), get_impl_ver(), get_abi_tag())\n",
    "cuda_output = !ldconfig -p|grep cudart.so|sed -e 's/.*\\.\\([0-9]*\\)\\.\\([0-9]*\\)$/cu\\1\\2/'\n",
    "accelerator = cuda_output[0] if exists('/dev/nvidia0') else 'cpu'\n",
    "\n",
    "!pip install -q http://download.pytorch.org/whl/{accelerator}/torch-0.4.1-{platform}-linux_x86_64.whl torchvision\n",
    "import torch"
   ]
  },
  {
   "cell_type": "markdown",
   "metadata": {
    "colab_type": "text",
    "id": "aHKBkoJPf4hp"
   },
   "source": [
    "В результате загрузки датасетов при помощи пакета torchvision мы получим картинки, содержащие значения в диапазоне [0,1], чтобы подавать их в нейросеть, нам нужно сделать из них тензоры со значениями в диапазоне [-1,1]\n",
    "\n",
    "Определим презобразование:"
   ]
  },
  {
   "cell_type": "code",
   "execution_count": 3,
   "metadata": {
    "colab": {},
    "colab_type": "code",
    "id": "GJeKQk9nf4hq"
   },
   "outputs": [],
   "source": [
    "transform = transforms.Compose(\n",
    "    \n",
    "[\n",
    "    transforms.ToTensor(),\n",
    "    transforms.Normalize((0.5, 0.5, 0.5), (0.5, 0.5, 0.5))\n",
    "]\n",
    "\n",
    ")"
   ]
  },
  {
   "cell_type": "markdown",
   "metadata": {
    "colab_type": "text",
    "id": "hNOgh6Obf4hx"
   },
   "source": [
    "Теперь вызовем загрузчики из пакета ``torchvision`` и скачаем обучающую выборку (trainset) и валидационную (testset)\n",
    "\n"
   ]
  },
  {
   "cell_type": "code",
   "execution_count": 4,
   "metadata": {
    "colab": {
     "base_uri": "https://localhost:8080/",
     "height": 114
    },
    "colab_type": "code",
    "executionInfo": {
     "elapsed": 9179,
     "status": "ok",
     "timestamp": 1541256926486,
     "user": {
      "displayName": "Deep Learning School",
      "photoUrl": "https://lh6.googleusercontent.com/-pCAqm81DR_s/AAAAAAAAAAI/AAAAAAAAAMk/4cGT0s91JQs/s64/photo.jpg",
      "userId": "16549096980415837553"
     },
     "user_tz": -180
    },
    "id": "Vvub5ZZdf4hz",
    "outputId": "1d34691b-8365-4e8d-b781-1fdb4d9750f0",
    "scrolled": false
   },
   "outputs": [
    {
     "name": "stdout",
     "output_type": "stream",
     "text": [
      "Files already downloaded and verified\n",
      "Files already downloaded and verified\n"
     ]
    }
   ],
   "source": [
    "trainset = torchvision.datasets.CIFAR10(root='./data', \n",
    "                                        train=True,download=True, transform=transform)\n",
    "train_loader = torch.utils.data.DataLoader(trainset, batch_size=4,\n",
    "                                           shuffle=True, num_workers=0, pin_memory=False)\n",
    "\n",
    "testset = torchvision.datasets.CIFAR10(root='./data', train=False, \n",
    "                                       download=True, transform=transform)\n",
    "validation_loader = torch.utils.data.DataLoader(testset, batch_size=4,\n",
    "                                                shuffle=False, num_workers=0, pin_memory=False)"
   ]
  },
  {
   "cell_type": "markdown",
   "metadata": {
    "colab_type": "text",
    "id": "DsFyaka7f4h5"
   },
   "source": [
    "Определим константы"
   ]
  },
  {
   "cell_type": "code",
   "execution_count": 5,
   "metadata": {},
   "outputs": [
    {
     "name": "stdout",
     "output_type": "stream",
     "text": [
      "tensor([[1000.,    2.],\n",
      "        [   3.,    4.],\n",
      "        [  50.,    6.],\n",
      "        [   7.,    8.],\n",
      "        [   1.,    2.],\n",
      "        [   3.,    4.]])\n"
     ]
    },
    {
     "data": {
      "text/plain": [
       "(tensor([1000.,    4.,   50.,    8.,    2.,    4.]),\n",
       " tensor([0, 1, 0, 1, 1, 1]))"
      ]
     },
     "execution_count": 5,
     "metadata": {},
     "output_type": "execute_result"
    }
   ],
   "source": [
    "v = torch.Tensor([[1000,2,3,4], [50,6,7,8], [1,2,3,4]])\n",
    "v = v.view(-1, 2)\n",
    "print(v)\n",
    "v.max(1)"
   ]
  },
  {
   "cell_type": "code",
   "execution_count": 6,
   "metadata": {
    "colab": {},
    "colab_type": "code",
    "id": "UnfKGICOf4h6"
   },
   "outputs": [],
   "source": [
    "IMAGE_WIDTH = 32\n",
    "IMAGE_HEIGHT = 32\n",
    "COLOR_CHANNELS = 3\n",
    "EPOCHS = 50\n",
    "LEARNING_RATE = 0.001\n",
    "BATCH_SIZE = 32\n",
    "BATCH_IMAGE_COUNT = 10000\n",
    "CLASSES = ['plane', 'car', 'bird', 'cat', 'deer', 'dog', 'frog', 'horse', 'ship', 'truck']\n",
    "N_CLASSES = len(CLASSES)\n",
    "PLOT = False"
   ]
  },
  {
   "cell_type": "code",
   "execution_count": 7,
   "metadata": {
    "colab": {
     "base_uri": "https://localhost:8080/",
     "height": 204
    },
    "colab_type": "code",
    "executionInfo": {
     "elapsed": 1080,
     "status": "ok",
     "timestamp": 1541259191860,
     "user": {
      "displayName": "Deep Learning School",
      "photoUrl": "https://lh6.googleusercontent.com/-pCAqm81DR_s/AAAAAAAAAAI/AAAAAAAAAMk/4cGT0s91JQs/s64/photo.jpg",
      "userId": "16549096980415837553"
     },
     "user_tz": -180
    },
    "id": "mNWymneYf4h-",
    "outputId": "80c3943a-b7af-46ea-f7ab-23c5c5c6c660"
   },
   "outputs": [
    {
     "name": "stdout",
     "output_type": "stream",
     "text": [
      "  car plane   dog  deer\n"
     ]
    },
    {
     "data": {
      "image/png": "[encoded data removed]",
      "text/plain": [
       "<Figure size 432x288 with 1 Axes>"
      ]
     },
     "metadata": {},
     "output_type": "display_data"
    }
   ],
   "source": [
    "import matplotlib.pyplot as plt\n",
    "import numpy as np\n",
    "\n",
    "# Функция, которая показывает изображения\n",
    "def imshow(img):\n",
    "    img = img / 2 + 0.5     # деномрировка\n",
    "    npimg = img.numpy()\n",
    "    plt.imshow(np.transpose(npimg, (1, 2, 0)))\n",
    "\n",
    "\n",
    "# достаем случайные картинки из обучающей выборки\n",
    "dataiter = iter(train_loader)\n",
    "images, labels = dataiter.next()\n",
    "\n",
    "# вызываем функцию, реализующую демонстрацию изображений, что мы можем видеть на них?\n",
    "imshow(torchvision.utils.make_grid(images))\n",
    "# выведем метки классов отрисованных изображений\n",
    "print(' '.join('%5s' % CLASSES[labels[j]] for j in range(4)))"
   ]
  },
  {
   "cell_type": "code",
   "execution_count": 8,
   "metadata": {
    "colab": {},
    "colab_type": "code",
    "id": "wysy5qO2f4iC"
   },
   "outputs": [],
   "source": [
    "class Net(torch.nn.Module):\n",
    "    def __init__(self, n_hidden_nodes, n_hidden_layers):\n",
    "        super(Net, self).__init__()\n",
    "        # Определяем слои\n",
    "        self.fc1 = torch.nn.Linear(IMAGE_WIDTH * IMAGE_WIDTH * COLOR_CHANNELS,\n",
    "                                   n_hidden_nodes)\n",
    "#         self.n_hidden_nodes=n_hidden_nodes\n",
    "#         self.n_hidden_layers=n_hidden_layers\n",
    "\n",
    "        self.out = torch.nn.Linear(n_hidden_nodes, N_CLASSES)\n",
    "\n",
    "    def forward(self, x):\n",
    "        x = x.view(-1, IMAGE_WIDTH * IMAGE_WIDTH * COLOR_CHANNELS)\n",
    "        # определяем функцию активации\n",
    "        sigmoid = torch.nn.Sigmoid()\n",
    "        x = sigmoid(self.fc1(x))\n",
    "        return torch.nn.functional.log_softmax(self.out(x))"
   ]
  },
  {
   "cell_type": "code",
   "execution_count": 50,
   "metadata": {
    "colab": {},
    "colab_type": "code",
    "id": "sdi5bYJaf4iF"
   },
   "outputs": [],
   "source": [
    "def train(epoch, model, train_loader, optimizer, log_interval=100):\n",
    "    model.train()\n",
    "    correct = 0\n",
    "    for batch_idx, (data, target) in enumerate(train_loader):\n",
    "        data, target = Variable(data), Variable(target)\n",
    "        optimizer.zero_grad()\n",
    "        output = model(data)\n",
    "\n",
    "        pred = output.data.max(1)[1] # get the index of the max log-probability\n",
    "        correct += pred.eq(target.data).cpu().sum()\n",
    "        accuracy = 100. * correct / len(train_loader.dataset)\n",
    "        \n",
    "        \n",
    "        loss = torch.nn.functional.nll_loss(output, target)\n",
    "        loss.backward()\n",
    "        optimizer.step()\n",
    "        if batch_idx % 10000 == 0:\n",
    "            pass\n",
    "#             print('Train Epoch: {} [{}/{} ({:.0f}%)]\\tLoss: {:.6f}'.format(\n",
    "#                 epoch, batch_idx * len(data), len(train_loader.dataset),\n",
    "#                 100. * batch_idx / len(train_loader), torch.Tensor.item(loss.data[0]), accuracy))\n"
   ]
  },
  {
   "cell_type": "code",
   "execution_count": 34,
   "metadata": {
    "colab": {},
    "colab_type": "code",
    "id": "_MB7us3sf4iI"
   },
   "outputs": [],
   "source": [
    "def validate(loss_vector, accuracy_vector, model, validation_loader):\n",
    "    model.eval()\n",
    "    val_loss, correct = 0, 0\n",
    "    for data, target in validation_loader:\n",
    "        \n",
    "        data, target = Variable(data, volatile=True), Variable(target)\n",
    "        output = model(data)\n",
    "        val_loss += torch.nn.functional.nll_loss(output, target).data[0]\n",
    "        pred = output.data.max(1)[1] # get the index of the max log-probability\n",
    "        correct += pred.eq(target.data).cpu().sum()\n",
    "\n",
    "    val_loss /= len(validation_loader)\n",
    "    loss_vector.append(val_loss)\n",
    "\n",
    "    accuracy = 100. * correct / len(validation_loader.dataset)\n",
    "    accuracy_vector.append(accuracy)\n",
    "\n",
    "#     print('\\nValidation set: Average loss: {:.4f}, Accuracy: {}/{} ({:.0f}%)\\n'.format(\n",
    "#         val_loss, correct, len(validation_loader.dataset), accuracy))"
   ]
  },
  {
   "cell_type": "code",
   "execution_count": 15,
   "metadata": {
    "colab": {},
    "colab_type": "code",
    "id": "5Ta4nX1Uf4iK"
   },
   "outputs": [],
   "source": [
    "from tqdm import tqdm_notebook\n"
   ]
  },
  {
   "cell_type": "code",
   "execution_count": 42,
   "metadata": {
    "colab": {
     "base_uri": "https://localhost:8080/",
     "height": 3417
    },
    "colab_type": "code",
    "id": "HcykLY4af4iM",
    "outputId": "9fc038b6-d1bc-4050-b6da-06f01613190c"
   },
   "outputs": [
    {
     "ename": "IndexError",
     "evalue": "invalid index of a 0-dim tensor. Use tensor.item() to convert a 0-dim tensor to a Python number",
     "output_type": "error",
     "traceback": [
      "\u001b[1;31m---------------------------------------------------------------------------\u001b[0m",
      "\u001b[1;31mIndexError\u001b[0m                                Traceback (most recent call last)",
      "\u001b[1;32m<ipython-input-42-c275110bb9ba>\u001b[0m in \u001b[0;36m<module>\u001b[1;34m()\u001b[0m\n\u001b[0;32m      6\u001b[0m \u001b[0macc_vector\u001b[0m \u001b[1;33m=\u001b[0m \u001b[1;33m[\u001b[0m\u001b[1;33m]\u001b[0m\u001b[1;33m\u001b[0m\u001b[0m\n\u001b[0;32m      7\u001b[0m \u001b[1;32mfor\u001b[0m \u001b[0mepoch\u001b[0m \u001b[1;32min\u001b[0m \u001b[0mrange\u001b[0m\u001b[1;33m(\u001b[0m\u001b[1;36m1\u001b[0m\u001b[1;33m,\u001b[0m \u001b[0mEPOCHS\u001b[0m \u001b[1;33m+\u001b[0m \u001b[1;36m1\u001b[0m\u001b[1;33m)\u001b[0m\u001b[1;33m:\u001b[0m\u001b[1;33m\u001b[0m\u001b[0m\n\u001b[1;32m----> 8\u001b[1;33m     \u001b[0mtrain\u001b[0m\u001b[1;33m(\u001b[0m\u001b[0mepoch\u001b[0m\u001b[1;33m,\u001b[0m \u001b[0mmodel\u001b[0m\u001b[1;33m,\u001b[0m \u001b[0mtrain_loader\u001b[0m\u001b[1;33m,\u001b[0m \u001b[0moptimizer\u001b[0m\u001b[1;33m)\u001b[0m\u001b[1;33m\u001b[0m\u001b[0m\n\u001b[0m\u001b[0;32m      9\u001b[0m     \u001b[0mvalidate\u001b[0m\u001b[1;33m(\u001b[0m\u001b[0mloss_vector\u001b[0m\u001b[1;33m,\u001b[0m \u001b[0macc_vector\u001b[0m\u001b[1;33m,\u001b[0m \u001b[0mmodel\u001b[0m\u001b[1;33m,\u001b[0m \u001b[0mvalidation_loader\u001b[0m\u001b[1;33m)\u001b[0m\u001b[1;33m\u001b[0m\u001b[0m\n\u001b[0;32m     10\u001b[0m     \u001b[1;32mif\u001b[0m \u001b[0mepoch\u001b[0m \u001b[1;33m==\u001b[0m \u001b[1;36m40\u001b[0m\u001b[1;33m:\u001b[0m\u001b[1;33m\u001b[0m\u001b[0m\n",
      "\u001b[1;32m<ipython-input-40-1d2cc8e8c1e3>\u001b[0m in \u001b[0;36mtrain\u001b[1;34m(epoch, model, train_loader, optimizer, log_interval)\u001b[0m\n\u001b[0;32m     18\u001b[0m             print('Train Epoch: {} [{}/{} ({:.0f}%)]\\tLoss: {:.6f}'.format(\n\u001b[0;32m     19\u001b[0m                 \u001b[0mepoch\u001b[0m\u001b[1;33m,\u001b[0m \u001b[0mbatch_idx\u001b[0m \u001b[1;33m*\u001b[0m \u001b[0mlen\u001b[0m\u001b[1;33m(\u001b[0m\u001b[0mdata\u001b[0m\u001b[1;33m)\u001b[0m\u001b[1;33m,\u001b[0m \u001b[0mlen\u001b[0m\u001b[1;33m(\u001b[0m\u001b[0mtrain_loader\u001b[0m\u001b[1;33m.\u001b[0m\u001b[0mdataset\u001b[0m\u001b[1;33m)\u001b[0m\u001b[1;33m,\u001b[0m\u001b[1;33m\u001b[0m\u001b[0m\n\u001b[1;32m---> 20\u001b[1;33m                 100. * batch_idx / len(train_loader), loss.data[0], accuracy))\n\u001b[0m",
      "\u001b[1;31mIndexError\u001b[0m: invalid index of a 0-dim tensor. Use tensor.item() to convert a 0-dim tensor to a Python number"
     ]
    }
   ],
   "source": [
    "hidden_nodes = 10\n",
    "layers = 1\n",
    "model = Net(hidden_nodes, layers)\n",
    "optimizer = torch.optim.SGD(model.parameters(), lr=LEARNING_RATE)\n",
    "loss_vector = []\n",
    "acc_vector = []\n",
    "for epoch in range(1, EPOCHS + 1):\n",
    "    train(epoch, model, train_loader, optimizer)\n",
    "    validate(loss_vector, acc_vector, model, validation_loader)\n",
    "    if epoch == 40:\n",
    "        break"
   ]
  },
  {
   "cell_type": "markdown",
   "metadata": {
    "colab_type": "text",
    "id": "eLhItbeMf4iO"
   },
   "source": [
    "Итак, мы обучили нашу сеть проходами по обучающей выборке. Давайте проверим, обучилась ли наша сеть. Проверим это путем предсказания меток классов для валидационной выборки."
   ]
  },
  {
   "cell_type": "code",
   "execution_count": 0,
   "metadata": {
    "colab": {
     "base_uri": "https://localhost:8080/",
     "height": 361
    },
    "colab_type": "code",
    "id": "cuELsbq3f4iP",
    "outputId": "5e746be0-1e6f-4224-eca2-e6e4d1df8ac1"
   },
   "outputs": [
    {
     "data": {
      "image/png": "[encoded data removed]",
      "text/plain": [
       "<matplotlib.figure.Figure at 0x7f50a2a3e8d0>"
      ]
     },
     "metadata": {
      "tags": []
     },
     "output_type": "display_data"
    }
   ],
   "source": [
    "# Plot train loss and validation accuracy vs epochs for each learning rate\n",
    "epochs = [i for i in range(1, 41)]\n",
    "plt.plot(epochs, loss_vector)\n",
    "plt.xlabel(\"Epochs\")\n",
    "plt.ylabel(\"Loss\")\n",
    "plt.show()"
   ]
  },
  {
   "cell_type": "code",
   "execution_count": 0,
   "metadata": {
    "colab": {
     "base_uri": "https://localhost:8080/",
     "height": 184
    },
    "colab_type": "code",
    "id": "IDJfSHQif4iR",
    "outputId": "9954aef3-ee83-407a-8cce-b15d5c9c9552"
   },
   "outputs": [
    {
     "name": "stdout",
     "output_type": "stream",
     "text": [
      "GroundTruth:    cat  ship  ship plane\n"
     ]
    },
    {
     "data": {
      "image/png": "[encoded data removed]",
      "text/plain": [
       "<matplotlib.figure.Figure at 0x7f50a205b198>"
      ]
     },
     "metadata": {
      "tags": []
     },
     "output_type": "display_data"
    }
   ],
   "source": [
    "dataiter = iter(validation_loader)\n",
    "images, labels = dataiter.next()\n",
    "\n",
    "# выведем наши предсказания\n",
    "imshow(torchvision.utils.make_grid(images))\n",
    "print('GroundTruth: ', ' '.join('%5s' % CLASSES[labels[j]] for j in range(4)))\n",
    "\n",
    "outputs=model(images)"
   ]
  },
  {
   "cell_type": "code",
   "execution_count": 0,
   "metadata": {
    "colab": {
     "base_uri": "https://localhost:8080/",
     "height": 34
    },
    "colab_type": "code",
    "id": "1Bt-VRMvf4iU",
    "outputId": "beadd68f-1b05-49e0-f3f9-abd62e1b4f1f"
   },
   "outputs": [
    {
     "name": "stdout",
     "output_type": "stream",
     "text": [
      "Predicted:    dog truck  ship plane\n"
     ]
    }
   ],
   "source": [
    "_, predicted = torch.max(outputs, 1)\n",
    "\n",
    "print('Predicted: ', ' '.join('%5s' % CLASSES[predicted[j]]\n",
    "                              for j in range(4)))"
   ]
  },
  {
   "cell_type": "markdown",
   "metadata": {
    "colab_type": "text",
    "id": "FQYwDNB_f4iW"
   },
   "source": [
    "Протестируем на всем тесте:"
   ]
  },
  {
   "cell_type": "code",
   "execution_count": 39,
   "metadata": {
    "colab": {
     "base_uri": "https://localhost:8080/",
     "height": 34
    },
    "colab_type": "code",
    "id": "6ZD9Lxi1f4iX",
    "outputId": "d02c4568-9080-467f-d276-5ecb208fc38a"
   },
   "outputs": [
    {
     "name": "stdout",
     "output_type": "stream",
     "text": [
      "Accuracy of the network on the 10000 test images: 9 %\n"
     ]
    }
   ],
   "source": [
    "correct = 0\n",
    "total = 0\n",
    "with torch.no_grad():\n",
    "    for data in validation_loader:\n",
    "        images, labels = data\n",
    "        outputs = model(images)\n",
    "        _, predicted = torch.max(outputs.data, 1)\n",
    "        total += labels.size(0)\n",
    "        correct += (predicted == labels).sum().item()\n",
    "\n",
    "print('Accuracy of the network on the 10000 test images: %d %%' % (\n",
    "    100 * correct / total))"
   ]
  },
  {
   "cell_type": "code",
   "execution_count": null,
   "metadata": {
    "colab": {
     "base_uri": "https://localhost:8080/",
     "height": 187
    },
    "colab_type": "code",
    "id": "2uxu2qysf4ia",
    "outputId": "b00681dd-4454-4cfa-be41-19a4b3eab582"
   },
   "outputs": [],
   "source": [
    "class_correct = list(0. for i in range(10))\n",
    "class_total = list(0. for i in range(10))\n",
    "with torch.no_grad():\n",
    "    for data in validation_loader:\n",
    "        images, labels = data\n",
    "        outputs = model(images)\n",
    "        _, predicted = torch.max(outputs, 1)\n",
    "        c = (predicted == labels).squeeze()\n",
    "        for i in range(4):\n",
    "            label = labels[i]\n",
    "            class_correct[label] += c[i].item()\n",
    "            class_total[label] += 1\n",
    "\n",
    "\n",
    "for i in range(10):\n",
    "    print('Accuracy of %5s : %2d %%' % (\n",
    "        CLASSES[i], 100 * class_correct[i] / class_total[i]))"
   ]
  },
  {
   "cell_type": "markdown",
   "metadata": {
    "colab_type": "text",
    "id": "kRuFMmwvf4id"
   },
   "source": [
    "Каким образом мы можем улучшить качество распознавания и обучения?\n",
    "1. Добавить **dropout**\n",
    "\n",
    "2. Добавить **batchnorm** (2 семинар)\n",
    "3. Использовать свертки. Но об этом позже :)"
   ]
  },
  {
   "cell_type": "code",
   "execution_count": 0,
   "metadata": {
    "colab": {},
    "colab_type": "code",
    "id": "QwjLmYc7f4id"
   },
   "outputs": [],
   "source": [
    "class SecondNet(torch.nn.Module):\n",
    "    def __init__(self, n_hidden_nodes, n_hidden_layers,keep_rate=0.8):\n",
    "        super().__init__()\n",
    "        self.n_hidden_nodes = n_hidden_nodes\n",
    "        self.n_hidden_layers = n_hidden_layers\n",
    "#         if not keep_rate:\n",
    "#             keep_rate = 0.5\n",
    "#         self.keep_rate = keep_rate\n",
    "        # Set up perceptron layers and add dropout\n",
    "        self.fc1 = torch.nn.Linear(IMAGE_WIDTH * IMAGE_WIDTH * COLOR_CHANNELS,\n",
    "                                   self.n_hidden_nodes)\n",
    "        self.fc1_drop = torch.nn.Dropout(1 - keep_rate)\n",
    "        self.out = torch.nn.Linear(self.n_hidden_nodes, N_CLASSES)\n",
    "    \n",
    "    def forward(self, x):\n",
    "        x = x.view(-1, IMAGE_WIDTH * IMAGE_WIDTH * COLOR_CHANNELS)\n",
    "        sigmoid = torch.nn.Sigmoid()\n",
    "        x = sigmoid(self.fc1(x))\n",
    "        x = self.fc1_drop(x)\n",
    "        return torch.nn.functional.log_softmax(self.out(x))\n"
   ]
  },
  {
   "cell_type": "code",
   "execution_count": 0,
   "metadata": {
    "colab": {
     "base_uri": "https://localhost:8080/",
     "height": 2450
    },
    "colab_type": "code",
    "id": "l6aah5zAf4ig",
    "outputId": "8501d9b1-b125-4680-85b5-4596f95c8e17"
   },
   "outputs": [
    {
     "name": "stdout",
     "output_type": "stream",
     "text": [
      "Train Epoch: 1 [0/50000 (0%)]\tLoss: 2.338229\n",
      "Train Epoch: 1 [40000/50000 (80%)]\tLoss: 2.356363\n",
      "\n",
      "Validation set: Average loss: 1.9368, Accuracy: 3253/10000 (32%)\n",
      "\n",
      "Train Epoch: 2 [0/50000 (0%)]\tLoss: 2.300326\n",
      "Train Epoch: 2 [40000/50000 (80%)]\tLoss: 1.809654\n",
      "\n",
      "Validation set: Average loss: 1.8590, Accuracy: 3606/10000 (36%)\n",
      "\n",
      "Train Epoch: 3 [0/50000 (0%)]\tLoss: 3.370393\n",
      "Train Epoch: 3 [40000/50000 (80%)]\tLoss: 1.909336\n",
      "\n",
      "Validation set: Average loss: 1.8124, Accuracy: 3713/10000 (37%)\n",
      "\n",
      "Train Epoch: 4 [0/50000 (0%)]\tLoss: 2.186283\n",
      "Train Epoch: 4 [40000/50000 (80%)]\tLoss: 2.361922\n",
      "\n",
      "Validation set: Average loss: 1.7815, Accuracy: 3809/10000 (38%)\n",
      "\n",
      "Train Epoch: 5 [0/50000 (0%)]\tLoss: 0.897958\n",
      "Train Epoch: 5 [40000/50000 (80%)]\tLoss: 1.988269\n",
      "\n",
      "Validation set: Average loss: 1.7591, Accuracy: 3885/10000 (38%)\n",
      "\n",
      "Train Epoch: 6 [0/50000 (0%)]\tLoss: 1.896815\n",
      "Train Epoch: 6 [40000/50000 (80%)]\tLoss: 1.614118\n",
      "\n",
      "Validation set: Average loss: 1.7428, Accuracy: 3922/10000 (39%)\n",
      "\n",
      "Train Epoch: 7 [0/50000 (0%)]\tLoss: 1.760607\n",
      "Train Epoch: 7 [40000/50000 (80%)]\tLoss: 2.053325\n",
      "\n",
      "Validation set: Average loss: 1.7305, Accuracy: 3995/10000 (39%)\n",
      "\n",
      "Train Epoch: 8 [0/50000 (0%)]\tLoss: 1.926093\n",
      "Train Epoch: 8 [40000/50000 (80%)]\tLoss: 2.213455\n",
      "\n",
      "Validation set: Average loss: 1.7185, Accuracy: 3965/10000 (39%)\n",
      "\n",
      "Train Epoch: 9 [0/50000 (0%)]\tLoss: 2.189739\n",
      "Train Epoch: 9 [40000/50000 (80%)]\tLoss: 1.453444\n",
      "\n",
      "Validation set: Average loss: 1.7085, Accuracy: 4042/10000 (40%)\n",
      "\n",
      "Train Epoch: 10 [0/50000 (0%)]\tLoss: 2.820039\n",
      "Train Epoch: 10 [40000/50000 (80%)]\tLoss: 1.548236\n",
      "\n",
      "Validation set: Average loss: 1.6996, Accuracy: 4098/10000 (40%)\n",
      "\n",
      "Train Epoch: 11 [0/50000 (0%)]\tLoss: 2.072497\n",
      "Train Epoch: 11 [40000/50000 (80%)]\tLoss: 1.271940\n",
      "\n",
      "Validation set: Average loss: 1.6920, Accuracy: 4122/10000 (41%)\n",
      "\n",
      "Train Epoch: 12 [0/50000 (0%)]\tLoss: 1.995679\n",
      "Train Epoch: 12 [40000/50000 (80%)]\tLoss: 1.331770\n",
      "\n",
      "Validation set: Average loss: 1.6854, Accuracy: 4136/10000 (41%)\n",
      "\n",
      "Train Epoch: 13 [0/50000 (0%)]\tLoss: 2.023359\n",
      "Train Epoch: 13 [40000/50000 (80%)]\tLoss: 2.044176\n",
      "\n",
      "Validation set: Average loss: 1.6779, Accuracy: 4185/10000 (41%)\n",
      "\n",
      "Train Epoch: 14 [0/50000 (0%)]\tLoss: 1.057836\n",
      "Train Epoch: 14 [40000/50000 (80%)]\tLoss: 1.065666\n",
      "\n",
      "Validation set: Average loss: 1.6732, Accuracy: 4215/10000 (42%)\n",
      "\n",
      "Train Epoch: 15 [0/50000 (0%)]\tLoss: 1.633729\n",
      "Train Epoch: 15 [40000/50000 (80%)]\tLoss: 0.986622\n",
      "\n",
      "Validation set: Average loss: 1.6654, Accuracy: 4238/10000 (42%)\n",
      "\n",
      "Train Epoch: 16 [0/50000 (0%)]\tLoss: 1.434730\n",
      "Train Epoch: 16 [40000/50000 (80%)]\tLoss: 1.619697\n",
      "\n",
      "Validation set: Average loss: 1.6601, Accuracy: 4269/10000 (42%)\n",
      "\n",
      "Train Epoch: 17 [0/50000 (0%)]\tLoss: 1.651691\n",
      "Train Epoch: 17 [40000/50000 (80%)]\tLoss: 0.917030\n",
      "\n",
      "Validation set: Average loss: 1.6543, Accuracy: 4299/10000 (42%)\n",
      "\n",
      "Train Epoch: 18 [0/50000 (0%)]\tLoss: 1.009257\n",
      "Train Epoch: 18 [40000/50000 (80%)]\tLoss: 1.209028\n",
      "\n",
      "Validation set: Average loss: 1.6496, Accuracy: 4312/10000 (43%)\n",
      "\n",
      "Train Epoch: 19 [0/50000 (0%)]\tLoss: 1.292815\n",
      "Train Epoch: 19 [40000/50000 (80%)]\tLoss: 1.692756\n",
      "\n",
      "Validation set: Average loss: 1.6448, Accuracy: 4341/10000 (43%)\n",
      "\n",
      "Train Epoch: 20 [0/50000 (0%)]\tLoss: 1.113770\n",
      "Train Epoch: 20 [40000/50000 (80%)]\tLoss: 2.953823\n",
      "\n",
      "Validation set: Average loss: 1.6401, Accuracy: 4373/10000 (43%)\n",
      "\n",
      "Train Epoch: 21 [0/50000 (0%)]\tLoss: 1.531117\n",
      "Train Epoch: 21 [40000/50000 (80%)]\tLoss: 2.857919\n",
      "\n",
      "Validation set: Average loss: 1.6353, Accuracy: 4373/10000 (43%)\n",
      "\n",
      "Train Epoch: 22 [0/50000 (0%)]\tLoss: 1.897084\n",
      "Train Epoch: 22 [40000/50000 (80%)]\tLoss: 1.062314\n",
      "\n",
      "Validation set: Average loss: 1.6316, Accuracy: 4369/10000 (43%)\n",
      "\n",
      "Train Epoch: 23 [0/50000 (0%)]\tLoss: 0.908942\n",
      "Train Epoch: 23 [40000/50000 (80%)]\tLoss: 1.796218\n",
      "\n",
      "Validation set: Average loss: 1.6308, Accuracy: 4309/10000 (43%)\n",
      "\n",
      "Train Epoch: 24 [0/50000 (0%)]\tLoss: 2.410127\n",
      "Train Epoch: 24 [40000/50000 (80%)]\tLoss: 1.401630\n",
      "\n",
      "Validation set: Average loss: 1.6256, Accuracy: 4395/10000 (43%)\n",
      "\n",
      "Train Epoch: 25 [0/50000 (0%)]\tLoss: 1.398604\n",
      "Train Epoch: 25 [40000/50000 (80%)]\tLoss: 1.217162\n",
      "\n",
      "Validation set: Average loss: 1.6202, Accuracy: 4426/10000 (44%)\n",
      "\n",
      "Train Epoch: 26 [0/50000 (0%)]\tLoss: 1.325698\n",
      "Train Epoch: 26 [40000/50000 (80%)]\tLoss: 2.415255\n",
      "\n",
      "Validation set: Average loss: 1.6151, Accuracy: 4432/10000 (44%)\n",
      "\n",
      "Train Epoch: 27 [0/50000 (0%)]\tLoss: 1.280219\n",
      "Train Epoch: 27 [40000/50000 (80%)]\tLoss: 2.023754\n",
      "\n",
      "Validation set: Average loss: 1.6127, Accuracy: 4435/10000 (44%)\n",
      "\n",
      "Train Epoch: 28 [0/50000 (0%)]\tLoss: 2.280611\n",
      "Train Epoch: 28 [40000/50000 (80%)]\tLoss: 1.360426\n",
      "\n",
      "Validation set: Average loss: 1.6086, Accuracy: 4466/10000 (44%)\n",
      "\n",
      "Train Epoch: 29 [0/50000 (0%)]\tLoss: 1.772745\n",
      "Train Epoch: 29 [40000/50000 (80%)]\tLoss: 1.248500\n",
      "\n",
      "Validation set: Average loss: 1.6061, Accuracy: 4464/10000 (44%)\n",
      "\n",
      "Train Epoch: 30 [0/50000 (0%)]\tLoss: 1.648405\n"
     ]
    }
   ],
   "source": [
    "В Pytorch есть возможность запускать вычисления на GPU"
   ]
  },
  {
   "cell_type": "code",
   "execution_count": 0,
   "metadata": {
    "colab": {},
    "colab_type": "code",
    "id": "u3SvVLEAp4xg"
   },
   "outputs": [],
   "source": [
    "# to save model use torch.save(model.state_dict(), 'Second_Net.pt') \n",
    "# to load use model.load_state_dict(torch.load('Second_Model.pt'))"
   ]
  },
  {
   "cell_type": "code",
   "execution_count": 0,
   "metadata": {
    "colab": {
     "base_uri": "https://localhost:8080/",
     "height": 363
    },
    "colab_type": "code",
    "id": "p0Q-D23Qf4ii",
    "outputId": "3edd2f81-28ce-45c7-e745-621584528493"
   },
   "outputs": [
    {
     "data": {
      "image/png": "[encoded data removed]",
      "text/plain": [
       "<matplotlib.figure.Figure at 0x7f50a53e5a58>"
      ]
     },
     "metadata": {
      "tags": []
     },
     "output_type": "display_data"
    }
   ],
   "source": [
    "# Plot train loss and validation accuracy vs epochs for each learning rate\n",
    "epochs = [i for i in range(1, 31)]\n",
    "plt.plot(epochs, loss_vector)\n",
    "plt.xlabel(\"Epochs\")\n",
    "plt.ylabel(\"Loss\")\n",
    "plt.show()"
   ]
  },
  {
   "cell_type": "markdown",
   "metadata": {
    "colab_type": "text",
    "id": "y9US-3ZjrSBI"
   },
   "source": [
    "Попробуйте самостоятельно написать двуслойную сеть с дропаутом. Получилось ли улучшить результат?"
   ]
  },
  {
   "cell_type": "code",
   "execution_count": 29,
   "metadata": {
    "colab": {},
    "colab_type": "code",
    "id": "UZj3d7h7tRu9"
   },
   "outputs": [],
   "source": [
    "class TwoLayerNet(torch.nn.Module):\n",
    "    def __init__(self, n_hidden_nodes, n_hidden_layers, keep_rate=0):\n",
    "        super().__init__()\n",
    "        self.n_hidden_nodes = n_hidden_nodes\n",
    "        self.n_hidden_layers = n_hidden_layers\n",
    "        if not keep_rate:\n",
    "            keep_rate = 0.5\n",
    "        self.keep_rate = keep_rate\n",
    "        # Set up perceptron layers and add dropout\n",
    "        self.fc1 = torch.nn.Linear(IMAGE_WIDTH * IMAGE_WIDTH * COLOR_CHANNELS,\n",
    "                                   n_hidden_nodes)\n",
    "        self.fc1_drop = torch.nn.Dropout(1 - keep_rate)\n",
    "        if n_hidden_layers == 2:\n",
    "            self.fc2 = torch.nn.Linear(n_hidden_nodes,\n",
    "                                   n_hidden_nodes)\n",
    "            self.fc2_drop = torch.nn.Dropout(1 - keep_rate)\n",
    "\n",
    "        self.out = torch.nn.Linear(n_hidden_nodes, N_CLASSES)\n",
    "    \n",
    "    def forward(self, x):\n",
    "        x = x.view(-1, IMAGE_WIDTH * IMAGE_WIDTH * COLOR_CHANNELS)\n",
    "        sigmoid = torch.nn.Sigmoid()\n",
    "        x = sigmoid(self.fc1(x))\n",
    "        x = self.fc1_drop(x)\n",
    "        x = sigmoid(self.fc2(x))\n",
    "        x = self.fc2_drop(x)\n",
    "        \n",
    "        return torch.nn.functional.log_softmax(self.out(x))"
   ]
  },
  {
   "cell_type": "code",
   "execution_count": 52,
   "metadata": {
    "colab": {},
    "colab_type": "code",
    "id": "VFtgxjJ6rPVr"
   },
   "outputs": [
    {
     "ename": "IndexError",
     "evalue": "invalid index of a 0-dim tensor. Use tensor.item() to convert a 0-dim tensor to a Python number",
     "output_type": "error",
     "traceback": [
      "\u001b[1;31m---------------------------------------------------------------------------\u001b[0m",
      "\u001b[1;31mIndexError\u001b[0m                                Traceback (most recent call last)",
      "\u001b[1;32m<ipython-input-52-251e993d27bb>\u001b[0m in \u001b[0;36m<module>\u001b[1;34m()\u001b[0m\n\u001b[0;32m      7\u001b[0m \u001b[1;32mfor\u001b[0m \u001b[0mepoch\u001b[0m \u001b[1;32min\u001b[0m \u001b[0mrange\u001b[0m\u001b[1;33m(\u001b[0m\u001b[1;36m1\u001b[0m\u001b[1;33m,\u001b[0m \u001b[0mEPOCHS\u001b[0m \u001b[1;33m+\u001b[0m \u001b[1;36m1\u001b[0m\u001b[1;33m)\u001b[0m\u001b[1;33m:\u001b[0m\u001b[1;33m\u001b[0m\u001b[0m\n\u001b[0;32m      8\u001b[0m     \u001b[0mtrain\u001b[0m\u001b[1;33m(\u001b[0m\u001b[0mepoch\u001b[0m\u001b[1;33m,\u001b[0m \u001b[0mmodel\u001b[0m\u001b[1;33m,\u001b[0m \u001b[0mtrain_loader\u001b[0m\u001b[1;33m,\u001b[0m \u001b[0moptimizer\u001b[0m\u001b[1;33m)\u001b[0m\u001b[1;33m\u001b[0m\u001b[0m\n\u001b[1;32m----> 9\u001b[1;33m     \u001b[0mvalidate\u001b[0m\u001b[1;33m(\u001b[0m\u001b[0mloss_vector\u001b[0m\u001b[1;33m,\u001b[0m \u001b[0macc_vector\u001b[0m\u001b[1;33m,\u001b[0m \u001b[0mmodel\u001b[0m\u001b[1;33m,\u001b[0m \u001b[0mvalidation_loader\u001b[0m\u001b[1;33m)\u001b[0m\u001b[1;33m\u001b[0m\u001b[0m\n\u001b[0m\u001b[0;32m     10\u001b[0m     \u001b[1;32mif\u001b[0m \u001b[0mepoch\u001b[0m \u001b[1;33m==\u001b[0m \u001b[1;36m40\u001b[0m\u001b[1;33m:\u001b[0m\u001b[1;33m\u001b[0m\u001b[0m\n\u001b[0;32m     11\u001b[0m         \u001b[1;32mbreak\u001b[0m\u001b[1;33m\u001b[0m\u001b[0m\n",
      "\u001b[1;32m<ipython-input-34-db9c57d68ade>\u001b[0m in \u001b[0;36mvalidate\u001b[1;34m(loss_vector, accuracy_vector, model, validation_loader, cuda)\u001b[0m\n\u001b[0;32m      7\u001b[0m         \u001b[0mdata\u001b[0m\u001b[1;33m,\u001b[0m \u001b[0mtarget\u001b[0m \u001b[1;33m=\u001b[0m \u001b[0mVariable\u001b[0m\u001b[1;33m(\u001b[0m\u001b[0mdata\u001b[0m\u001b[1;33m,\u001b[0m \u001b[0mvolatile\u001b[0m\u001b[1;33m=\u001b[0m\u001b[1;32mTrue\u001b[0m\u001b[1;33m)\u001b[0m\u001b[1;33m,\u001b[0m \u001b[0mVariable\u001b[0m\u001b[1;33m(\u001b[0m\u001b[0mtarget\u001b[0m\u001b[1;33m)\u001b[0m\u001b[1;33m\u001b[0m\u001b[0m\n\u001b[0;32m      8\u001b[0m         \u001b[0moutput\u001b[0m \u001b[1;33m=\u001b[0m \u001b[0mmodel\u001b[0m\u001b[1;33m(\u001b[0m\u001b[0mdata\u001b[0m\u001b[1;33m)\u001b[0m\u001b[1;33m\u001b[0m\u001b[0m\n\u001b[1;32m----> 9\u001b[1;33m         \u001b[0mval_loss\u001b[0m \u001b[1;33m+=\u001b[0m \u001b[0mtorch\u001b[0m\u001b[1;33m.\u001b[0m\u001b[0mnn\u001b[0m\u001b[1;33m.\u001b[0m\u001b[0mfunctional\u001b[0m\u001b[1;33m.\u001b[0m\u001b[0mnll_loss\u001b[0m\u001b[1;33m(\u001b[0m\u001b[0moutput\u001b[0m\u001b[1;33m,\u001b[0m \u001b[0mtarget\u001b[0m\u001b[1;33m)\u001b[0m\u001b[1;33m.\u001b[0m\u001b[0mdata\u001b[0m\u001b[1;33m[\u001b[0m\u001b[1;36m0\u001b[0m\u001b[1;33m]\u001b[0m\u001b[1;33m\u001b[0m\u001b[0m\n\u001b[0m\u001b[0;32m     10\u001b[0m         \u001b[0mpred\u001b[0m \u001b[1;33m=\u001b[0m \u001b[0moutput\u001b[0m\u001b[1;33m.\u001b[0m\u001b[0mdata\u001b[0m\u001b[1;33m.\u001b[0m\u001b[0mmax\u001b[0m\u001b[1;33m(\u001b[0m\u001b[1;36m1\u001b[0m\u001b[1;33m)\u001b[0m\u001b[1;33m[\u001b[0m\u001b[1;36m1\u001b[0m\u001b[1;33m]\u001b[0m \u001b[1;31m# get the index of the max log-probability\u001b[0m\u001b[1;33m\u001b[0m\u001b[0m\n\u001b[0;32m     11\u001b[0m         \u001b[0mcorrect\u001b[0m \u001b[1;33m+=\u001b[0m \u001b[0mpred\u001b[0m\u001b[1;33m.\u001b[0m\u001b[0meq\u001b[0m\u001b[1;33m(\u001b[0m\u001b[0mtarget\u001b[0m\u001b[1;33m.\u001b[0m\u001b[0mdata\u001b[0m\u001b[1;33m)\u001b[0m\u001b[1;33m.\u001b[0m\u001b[0mcpu\u001b[0m\u001b[1;33m(\u001b[0m\u001b[1;33m)\u001b[0m\u001b[1;33m.\u001b[0m\u001b[0msum\u001b[0m\u001b[1;33m(\u001b[0m\u001b[1;33m)\u001b[0m\u001b[1;33m\u001b[0m\u001b[0m\n",
      "\u001b[1;31mIndexError\u001b[0m: invalid index of a 0-dim tensor. Use tensor.item() to convert a 0-dim tensor to a Python number"
     ]
    }
   ],
   "source": [
    "hidden_nodes = 10\n",
    "layers = 2\n",
    "model = TwoLayerNet(hidden_nodes, layers, 0.2)\n",
    "optimizer = torch.optim.SGD(model.parameters(), lr=LEARNING_RATE)\n",
    "loss_vector = []\n",
    "acc_vector = []\n",
    "for epoch in range(1, EPOCHS + 1):\n",
    "    train(epoch, model, train_loader, optimizer)\n",
    "    validate(loss_vector, acc_vector, model, validation_loader)\n",
    "    if epoch == 40:\n",
    "        break"
   ]
  }
 ],
 "metadata": {
  "colab": {
   "name": "Seminar7_1.ipynb",
   "provenance": [],
   "version": "0.3.2"
  },
  "kernelspec": {
   "display_name": "Python 3",
   "language": "python",
   "name": "python3"
  },
  "language_info": {
   "codemirror_mode": {
    "name": "ipython",
    "version": 3
   },
   "file_extension": ".py",
   "mimetype": "text/x-python",
   "name": "python",
   "nbconvert_exporter": "python",
   "pygments_lexer": "ipython3",
   "version": "3.6.5"
  }
 },
 "nbformat": 4,
 "nbformat_minor": 1
}
