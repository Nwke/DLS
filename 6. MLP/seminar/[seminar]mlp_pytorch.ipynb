{
 "cells": [
  {
   "cell_type": "markdown",
   "metadata": {
    "colab_type": "text",
    "id": "aaSoSTVpYJcu"
   },
   "source": [
    "<p style=\"align: center;\"><img src=\"https://static.tildacdn.com/tild6636-3531-4239-b465-376364646465/Deep_Learning_School.png\", width=300, height=300></p>\n",
    "\n",
    "<h3 style=\"text-align: center;\"><b>Физтех-Школа Прикладной математики и информатики (ФПМИ) МФТИ</b></h3>"
   ]
  },
  {
   "cell_type": "markdown",
   "metadata": {
    "colab_type": "text",
    "id": "GpZt9IYkYJcw"
   },
   "source": [
    "---"
   ]
  },
  {
   "cell_type": "markdown",
   "metadata": {
    "colab_type": "text",
    "id": "s4wplUzDYJcx"
   },
   "source": [
    "<h2 style=\"text-align: center;\"><b>Многослойная сеть на PyTorch</b></h3>"
   ]
  },
  {
   "cell_type": "markdown",
   "metadata": {
    "colab_type": "text",
    "id": "J2msuyHTYJcx"
   },
   "source": [
    "В этом ноутбке мы научимся писать свои нейросети на фреймворке PyTorch, конкретно - рассмотрим, как написать многослойную полносвязную сеть (Fully-Connected, FC), и сравним их качество на датасете картинок MNIST."
   ]
  },
  {
   "cell_type": "markdown",
   "metadata": {
    "colab_type": "text",
    "id": "9xJnMEZrYJcz"
   },
   "source": [
    "<h3 style=\"text-align: center;\"><b>Компоненты нейросети</b></h3>"
   ]
  },
  {
   "cell_type": "markdown",
   "metadata": {
    "colab_type": "text",
    "id": "InwacmvIYJc0"
   },
   "source": [
    "Здесь самое время напомнить о том, какие вещи играют принципиальную роль в построении любой ***нейронной сети*** (все их мы задаём *руками*, самостоятельно):  \n",
    "\n",
    "- непосредственно, сама **архитектура** нейросети (сюда входят типы функций активации у каждого нейрона);\n",
    "- начальная **инициализация** весов каждого слоя;\n",
    "- метод **оптимизации** нейросети (сюда ещё входит метод изменения `learning_rate`);\n",
    "- размер **батчей** (`batch_size`);\n",
    "- количество итераций обучения (`num_epochs`);\n",
    "- **функция потерь** (`loss`);  \n",
    "- тип **регуляризации** нейросети (для каждого слоя можно свой);  \n",
    "\n",
    "То, что связано с ***данными и задачей***:  \n",
    "- само **качество** выборки (непротиворечивость, чистота, корректность постановки задачи);  \n",
    "- **размер** выборки;  "
   ]
  },
  {
   "cell_type": "markdown",
   "metadata": {
    "colab_type": "text",
    "id": "tXujEOB0YJc1"
   },
   "source": [
    "<h3 style=\"text-align: center;\"><b>Многослойная нейронная сеть</b></h3>"
   ]
  },
  {
   "cell_type": "markdown",
   "metadata": {
    "colab_type": "text",
    "id": "mnxH-DajYJc3"
   },
   "source": [
    "Как можно понять из названия, многослойная нейросеть состоит из нескольких **слоёв**. Каждый слой состоит из **нейронов**. Ранее мы уже писали свой нейрон на NumPy, вот из таких нейронов и состоит ***MLP (Multi-Layer Perceptron)***. Ещё такую многослойную нейросеть, у которой каждый нейрон на предыдущем уровне соединён с нейроном на следующем уровне, называют ***Fully-Connected-сетью*** (или ***Dense-сетью***).  \n",
    "\n",
    "Расмотрим их устройство более подробно:"
   ]
  },
  {
   "cell_type": "markdown",
   "metadata": {
    "colab_type": "text",
    "id": "onjJUneMYJc5"
   },
   "source": [
    "* Вот так выглядит двухслойная нейросеть (первый слой - input layer - не считается, потому что это, по сути, не слой):"
   ]
  },
  {
   "cell_type": "markdown",
   "metadata": {
    "colab_type": "text",
    "id": "owRRulLzYJc6"
   },
   "source": [
    "<img src=\"http://cs231n.github.io/assets/nn1/neural_net.jpeg\" width=300, height=200>"
   ]
  },
  {
   "cell_type": "markdown",
   "metadata": {
    "colab_type": "text",
    "id": "tFNxGGBEYJc8"
   },
   "source": [
    "* Так выглядит трёхслойная нейросеть:"
   ]
  },
  {
   "cell_type": "markdown",
   "metadata": {
    "colab_type": "text",
    "id": "zRaKX35eYJc9"
   },
   "source": [
    "<img src=\"http://cs231n.github.io/assets/nn1/neural_net2.jpeg\" width=400, height=300>"
   ]
  },
  {
   "cell_type": "markdown",
   "metadata": {
    "colab_type": "text",
    "id": "6w1FTkO1YJc-"
   },
   "source": [
    ".. и так далее для большего случая слоёв."
   ]
  },
  {
   "cell_type": "markdown",
   "metadata": {
    "colab_type": "text",
    "id": "8iKV7m5YYJc_"
   },
   "source": [
    "**Обратите внимание:** связи есть у нейронов со слоя $L_{i-1}$  и нейронов $L_{i}$, но между нейронами в одном слое связей **нет**."
   ]
  },
  {
   "cell_type": "markdown",
   "metadata": {
    "colab_type": "text",
    "id": "URV9qWkfYJdA"
   },
   "source": [
    "**Входной слой** -- это данные (матрица $(n, m)$)."
   ]
  },
  {
   "cell_type": "markdown",
   "metadata": {
    "colab_type": "text",
    "id": "zK8tWuHHYJdB"
   },
   "source": [
    "Слои, которые не являются входными или выходными, называются **скрытыми слоями (hidden layers)**."
   ]
  },
  {
   "cell_type": "markdown",
   "metadata": {
    "colab_type": "text",
    "id": "fz9clUlCYJdC"
   },
   "source": [
    "При решении ***задачи регрессии*** на **выходном слое** обычно один нейрон, который возвращает предсказанные числа (для каждого объекта по числу).  \n",
    "\n",
    "В случае ***задачи классификации*** на **выходном слое** обычно один нейрон, если задача бинарной классификации, и $K$ нейронов, если задача $K$-класовой классификации."
   ]
  },
  {
   "cell_type": "markdown",
   "metadata": {
    "colab_type": "text",
    "id": "nJblXqY5YJdE"
   },
   "source": [
    "#### Forward pass в MLP"
   ]
  },
  {
   "cell_type": "markdown",
   "metadata": {
    "colab_type": "text",
    "id": "D87xoAl8YJdF"
   },
   "source": [
    "Каждый слой многослойной нейросети - это матрица весов, строки которой - это нейроны (одна строка - один нейрон), а столбцы - веса каждого нейрона (то есть одна строка - это веса одного нейрона)."
   ]
  },
  {
   "cell_type": "markdown",
   "metadata": {
    "colab_type": "text",
    "collapsed": true,
    "id": "RyXUqCfVYJdG"
   },
   "source": [
    "Допустим, мы решаем задачу $K$-классовой классификации (на последнем слое $K$ нейронов). Рассмотрим, как в таком случае выглядит `forward_pass` нейросети:"
   ]
  },
  {
   "cell_type": "markdown",
   "metadata": {
    "colab_type": "text",
    "id": "YO6gHbOjYJdH"
   },
   "source": [
    "* Вход: $$X =\n",
    "\\left(\n",
    "\\begin{matrix} \n",
    "x_{11} & ... & x_{1M} \\\\\n",
    "... & \\ddots  & ...\\\\\n",
    "x_{N1} & ... & x_{NM} \n",
    "\\end{matrix}\n",
    "\\right)\n",
    "$$\n",
    "\n",
    "-- матрица $(N, M)$"
   ]
  },
  {
   "cell_type": "markdown",
   "metadata": {
    "colab_type": "text",
    "collapsed": true,
    "id": "XdImZiQkYJdI"
   },
   "source": [
    "* Структура сети - много слоёв, в слоях много нейронов. Первый слой (после входного) выглядит так:"
   ]
  },
  {
   "cell_type": "markdown",
   "metadata": {
    "colab_type": "text",
    "id": "U2c2M4MJYJdJ"
   },
   "source": [
    "$$ W^1 =\n",
    "\\left(\n",
    "\\begin{matrix} \n",
    "w_{11} & ... & w_{1L_1} \\\\\n",
    "... & \\ddots  & ...\\\\\n",
    "w_{M1} & ... & w_{ML_1} \n",
    "\\end{matrix}\n",
    "\\right)\n",
    "$$\n",
    "\n",
    "-- матрица $(M, L_1)$"
   ]
  },
  {
   "cell_type": "markdown",
   "metadata": {
    "colab_type": "text",
    "id": "UUCdeLN0YJdK"
   },
   "source": [
    "То есть это в точности $L_1$ нейронов, каждый имеет свои собственные веса, их $M$ штук."
   ]
  },
  {
   "cell_type": "markdown",
   "metadata": {
    "colab_type": "text",
    "id": "ixHtlMwKYJdL"
   },
   "source": [
    "Мы помним, что нейрон - это линейное преобразование и потом нелинейная функция активации от этого преобразования. Однако в многослойных нейростеях часто отделяют `Linear` часть и `Activation`, то есть слоем считаем набор весов нейронов, а следующий слой всегда функция активации (у всех нейронов из слоя она одна и та же, обычно фреймворки не позволяют задавать конкретному нейрону в слое отличную от других нейронов в этом слое функцию активации, однако это легко сделать, объявив слой из одного нейрона)."
   ]
  },
  {
   "cell_type": "markdown",
   "metadata": {
    "colab_type": "text",
    "id": "AUt1NgTvYJdN"
   },
   "source": [
    "* Другие слои выглядит точно так же, как первый слой. Например, у второй слой будет такой:"
   ]
  },
  {
   "cell_type": "markdown",
   "metadata": {
    "colab_type": "text",
    "id": "IdtSTvTmYJdN"
   },
   "source": [
    "$$ W^2 =\n",
    "\\left(\n",
    "\\begin{matrix} \n",
    "w_{11} & ... & w_{1L_2} \\\\\n",
    "... & \\ddots  & ...\\\\\n",
    "w_{L_11} & ... & w_{L_1L_2} \n",
    "\\end{matrix}\n",
    "\\right)\n",
    "$$\n",
    "\n",
    "-- матрица $(L_1, L_2)$"
   ]
  },
  {
   "cell_type": "markdown",
   "metadata": {
    "colab_type": "text",
    "id": "R3nGnHoLYJdP"
   },
   "source": [
    "То есть это в точности $L_2$ нейронов, каждый имеет свои собственные веса, их $L_1$ штук."
   ]
  },
  {
   "cell_type": "markdown",
   "metadata": {
    "colab_type": "text",
    "id": "bQhOAQjSYJdR"
   },
   "source": [
    "* Выходной слой:  \n",
    "\n",
    "Пусть в нейросети до выходного слоя идут $t$ слоёв. Тогда выходной слой имеет форму:"
   ]
  },
  {
   "cell_type": "markdown",
   "metadata": {
    "colab_type": "text",
    "id": "fWvqm-K0YJdT"
   },
   "source": [
    "$$ W^{out} =\n",
    "\\left(\n",
    "\\begin{matrix} \n",
    "w_{11} & ... & w_{1K} \\\\\n",
    "... & \\ddots  & ...\\\\\n",
    "w_{L_t1} & ... & w_{L_tK} \n",
    "\\end{matrix}\n",
    "\\right)\n",
    "$$\n",
    "\n",
    "-- матрица $(L_t, K)$, где $L_t$ - количество нейронов в $t$-ом слое, а $K$ -- количество классов."
   ]
  },
  {
   "cell_type": "markdown",
   "metadata": {
    "colab_type": "text",
    "id": "2z5tO89NYJdU"
   },
   "source": [
    "В итоге ***для `forward_pass` нам нужно просто последовтельно перемножить матрицы друг за другом, применяя после каждого умножения соответсвующую функцию активации***."
   ]
  },
  {
   "cell_type": "markdown",
   "metadata": {
    "colab_type": "text",
    "id": "IZT4GgsCYJdV"
   },
   "source": [
    "*Примечание*: можно думать об умножении на очередную матрицу весов как на переход в **новое признаковое пространство**. Действительно, когда подаём матрицу $X$ и умножаем на матрицу первого слоя, мы получаем матрицу размера $(N, L_1)$, то есть как будто $L_1$ \"новых\" признаков (построенных как линейная комбинация старых до применения функции активации, и уже как нелинейная комбинация после активации)."
   ]
  },
  {
   "cell_type": "markdown",
   "metadata": {
    "colab_type": "text",
    "id": "4RhJ4fsHYJdW"
   },
   "source": [
    "**Backward pass в MLP**"
   ]
  },
  {
   "cell_type": "markdown",
   "metadata": {
    "colab_type": "text",
    "id": "MYN043DbYJdX"
   },
   "source": [
    "Обучается с помощью метода \"Error Backpropagation\" - [\"Обратное распространение ошибки\"](https://ru.wikipedia.org/wiki/%D0%9C%D0%B5%D1%82%D0%BE%D0%B4_%D0%BE%D0%B1%D1%80%D0%B0%D1%82%D0%BD%D0%BE%D0%B3%D0%BE_%D1%80%D0%B0%D1%81%D0%BF%D1%80%D0%BE%D1%81%D1%82%D1%80%D0%B0%D0%BD%D0%B5%D0%BD%D0%B8%D1%8F_%D0%BE%D1%88%D0%B8%D0%B1%D0%BA%D0%B8), принцип распространения очень похож на то, как мы обучали один нейрон - это градиентный спуск, но по \"всей нейросети\" сразу.  "
   ]
  },
  {
   "cell_type": "markdown",
   "metadata": {
    "colab_type": "text",
    "collapsed": true,
    "id": "oK7Vi4bxYJdZ"
   },
   "source": [
    "Backpropagation работает корректно благодаря ***chain rule*** (=правилу взятия производной сложной функции):  \n",
    "\n",
    "Если $f(x) = f(g(x))$, то:  \n",
    "\n",
    "$$\\frac{\\partial{f}}{\\partial{x}} = \\frac{\\partial{f}}{\\partial{g}} \\frac{\\partial{g}}{\\partial{x}}$$"
   ]
  },
  {
   "cell_type": "markdown",
   "metadata": {
    "colab_type": "text",
    "collapsed": true,
    "id": "WKvMsaEBYJda"
   },
   "source": [
    "Более подробно про backpropagation можно прочитать здесь (на английском):  https://mattmazur.com/2015/03/17/a-step-by-step-backpropagation-example/"
   ]
  },
  {
   "cell_type": "markdown",
   "metadata": {
    "colab_type": "text",
    "id": "z5dyjPVNYJdc"
   },
   "source": [
    "<h3 style=\"text-align: center;\"><b>Многослойная нейросеть на PyTorch</b></h3>"
   ]
  },
  {
   "cell_type": "markdown",
   "metadata": {
    "colab_type": "text",
    "id": "T9ufk3ECYJde"
   },
   "source": [
    "Ешё раз напомним про основные компоненты нейросети:\n",
    "\n",
    "- непосредственно, сама **архитектура** нейросети (сюда входят типы функций активации у каждого нейрона);\n",
    "- начальная **инициализация** весов каждого слоя;\n",
    "- метод **оптимизации** нейросети (сюда ещё входит метод изменения `learning_rate`);\n",
    "- размер **батчей** (`batch_size`);\n",
    "- количетсво итераций обучения (`num_epochs`);\n",
    "- **функция потерь** (`loss`);  \n",
    "- тип **регуляризации** нейросети (для каждого слоя можно свой);  \n",
    "\n",
    "То, что связано с ***данными и задачей***:  \n",
    "- само **качество** выборки (непротиворечивость, чистота, корректность постановки задачи);  \n",
    "- **размер** выборки;  "
   ]
  },
  {
   "cell_type": "markdown",
   "metadata": {
    "colab_type": "text",
    "id": "9KrWarqTYJdf"
   },
   "source": [
    "Не будем медлить - бахнем 100 нейронов в двуслойную нейросеть (датасет - снова \"Игрушка дьявола\"):"
   ]
  },
  {
   "cell_type": "code",
   "execution_count": 1,
   "metadata": {
    "colab": {},
    "colab_type": "code",
    "id": "bLjkPg19YJdg"
   },
   "outputs": [],
   "source": [
    "import matplotlib.pyplot as plt\n",
    "import numpy as np\n",
    "\n",
    "import torch"
   ]
  },
  {
   "cell_type": "markdown",
   "metadata": {
    "colab_type": "text",
    "id": "iCDVRvQJYJdl"
   },
   "source": [
    "Генерация и отрисовка датасета:"
   ]
  },
  {
   "cell_type": "code",
   "execution_count": 2,
   "metadata": {
    "colab": {},
    "colab_type": "code",
    "id": "k0J27RcLYJdm"
   },
   "outputs": [],
   "source": [
    "# код для генерации взят из Стэнфордсокго курса:\n",
    "# http://cs231n.github.io/neural-networks-case-study/#linear\n",
    "\n",
    "N = 100\n",
    "D = 2\n",
    "K = 3\n",
    "X = np.zeros((N * K, D))\n",
    "y = np.zeros(N * K, dtype='uint8')\n",
    "\n",
    "for j in range(K):\n",
    "    ix = range(N * j,N * (j + 1))\n",
    "    r = np.linspace(0.0, 1, N)\n",
    "    t = np.linspace(j * 4, (j + 1) * 4,N) + np.random.randn(N) * 0.2 # theta\n",
    "    X[ix] = np.c_[r * np.sin(t), r * np.cos(t)]\n",
    "    y[ix] = j"
   ]
  },
  {
   "cell_type": "markdown",
   "metadata": {
    "colab_type": "text",
    "id": "X9FHhqX_YJdp"
   },
   "source": [
    "Не забываем оборачивать данные (без этого градиенты не посчитать):"
   ]
  },
  {
   "cell_type": "code",
   "execution_count": 9,
   "metadata": {
    "colab": {},
    "colab_type": "code",
    "id": "pQINaQqZYJdq"
   },
   "outputs": [],
   "source": [
    "X = torch.autograd.Variable(torch.FloatTensor(X))\n",
    "y = torch.autograd.Variable(torch.LongTensor(y.astype(np.int64)))"
   ]
  },
  {
   "cell_type": "code",
   "execution_count": 10,
   "metadata": {
    "colab": {},
    "colab_type": "code",
    "id": "Who9mS8oYJdu",
    "outputId": "1ec6e30a-2cd9-4bd6-d0e0-3b7c936d1b8a"
   },
   "outputs": [
    {
     "name": "stdout",
     "output_type": "stream",
     "text": [
      "torch.Size([300, 2]) torch.Size([300])\n"
     ]
    }
   ],
   "source": [
    "print(X.data.shape, y.data.shape)"
   ]
  },
  {
   "cell_type": "markdown",
   "metadata": {
    "colab_type": "text",
    "id": "I-9dFW5CYJd0"
   },
   "source": [
    "Сама ячейка с сеткой и обучением:"
   ]
  },
  {
   "cell_type": "code",
   "execution_count": 11,
   "metadata": {
    "colab": {},
    "colab_type": "code",
    "id": "kf-YapleYJd1",
    "outputId": "d71315ae-670a-48e3-bcf7-b425ebe198fe"
   },
   "outputs": [
    {
     "name": "stderr",
     "output_type": "stream",
     "text": [
      "C:\\Users\\Denis\\Anaconda3\\lib\\site-packages\\torch\\nn\\_reduction.py:49: UserWarning: size_average and reduce args will be deprecated, please use reduction='sum' instead.\n",
      "  warnings.warn(warning.format(ret))\n"
     ]
    },
    {
     "name": "stdout",
     "output_type": "stream",
     "text": [
      "0 335.42919921875\n",
      "1 312.84674072265625\n",
      "2 299.6278991699219\n",
      "3 288.9237976074219\n",
      "4 280.1767578125\n",
      "5 272.9649658203125\n",
      "6 266.9643249511719\n",
      "7 261.9255065917969\n",
      "8 257.657470703125\n",
      "9 254.0113983154297\n",
      "10 250.87171936035156\n",
      "11 248.14764404296875\n",
      "12 245.7667999267578\n",
      "13 243.67214965820312\n",
      "14 241.8170928955078\n",
      "15 240.16448974609375\n",
      "16 238.6836700439453\n",
      "17 237.3494110107422\n",
      "18 236.14102172851562\n",
      "19 235.0414276123047\n",
      "20 234.0358428955078\n",
      "21 233.1121368408203\n",
      "22 232.26011657714844\n",
      "23 231.4709930419922\n",
      "24 230.7371368408203\n",
      "25 230.05239868164062\n",
      "26 229.4110107421875\n",
      "27 228.80816650390625\n",
      "28 228.23983764648438\n",
      "29 227.70242309570312\n",
      "30 227.19259643554688\n",
      "31 226.7077178955078\n",
      "32 226.2454071044922\n",
      "33 225.80319213867188\n",
      "34 225.37945556640625\n",
      "35 224.97225952148438\n",
      "36 224.58042907714844\n",
      "37 224.20236206054688\n",
      "38 223.83709716796875\n",
      "39 223.48313903808594\n",
      "40 223.14002990722656\n",
      "41 222.80665588378906\n",
      "42 222.48199462890625\n",
      "43 222.165771484375\n",
      "44 221.85702514648438\n",
      "45 221.55548095703125\n",
      "46 221.26043701171875\n",
      "47 220.97132873535156\n",
      "48 220.68772888183594\n",
      "49 220.40951538085938\n",
      "50 220.1361541748047\n",
      "51 219.86732482910156\n",
      "52 219.60269165039062\n",
      "53 219.3419189453125\n",
      "54 219.08489990234375\n",
      "55 218.83131408691406\n",
      "56 218.58099365234375\n",
      "57 218.3338165283203\n",
      "58 218.08938598632812\n",
      "59 217.84768676757812\n",
      "60 217.6085205078125\n",
      "61 217.37173461914062\n",
      "62 217.13726806640625\n",
      "63 216.9049530029297\n",
      "64 216.6747283935547\n",
      "65 216.44631958007812\n",
      "66 216.21995544433594\n",
      "67 215.9951934814453\n",
      "68 215.77191162109375\n",
      "69 215.55052185058594\n",
      "70 215.33038330078125\n",
      "71 215.1118927001953\n",
      "72 214.89466857910156\n",
      "73 214.67881774902344\n",
      "74 214.4641571044922\n",
      "75 214.25074768066406\n",
      "76 214.03855895996094\n",
      "77 213.82733154296875\n",
      "78 213.6171112060547\n",
      "79 213.4082794189453\n",
      "80 213.20016479492188\n",
      "81 212.9932403564453\n",
      "82 212.78680419921875\n",
      "83 212.58163452148438\n",
      "84 212.3772430419922\n",
      "85 212.1736602783203\n",
      "86 211.970947265625\n",
      "87 211.76881408691406\n",
      "88 211.56771850585938\n",
      "89 211.36721801757812\n",
      "90 211.16751098632812\n",
      "91 210.968505859375\n",
      "92 210.77005004882812\n",
      "93 210.5724334716797\n",
      "94 210.37545776367188\n",
      "95 210.17906188964844\n",
      "96 209.98312377929688\n",
      "97 209.78810119628906\n",
      "98 209.59356689453125\n",
      "99 209.3994140625\n",
      "100 209.2060546875\n",
      "101 209.0132598876953\n",
      "102 208.8208770751953\n",
      "103 208.62911987304688\n",
      "104 208.43783569335938\n",
      "105 208.24713134765625\n",
      "106 208.0568389892578\n",
      "107 207.86717224121094\n",
      "108 207.67799377441406\n",
      "109 207.48916625976562\n",
      "110 207.3009490966797\n",
      "111 207.11309814453125\n",
      "112 206.9257354736328\n",
      "113 206.73876953125\n",
      "114 206.55238342285156\n",
      "115 206.3663787841797\n",
      "116 206.18092346191406\n",
      "117 205.9957275390625\n",
      "118 205.8110809326172\n",
      "119 205.6267547607422\n",
      "120 205.44296264648438\n",
      "121 205.25946044921875\n",
      "122 205.07662963867188\n",
      "123 204.8938751220703\n",
      "124 204.71165466308594\n",
      "125 204.5298309326172\n",
      "126 204.3484344482422\n",
      "127 204.16737365722656\n",
      "128 203.98663330078125\n",
      "129 203.8063201904297\n",
      "130 203.62640380859375\n",
      "131 203.4468994140625\n",
      "132 203.26783752441406\n",
      "133 203.08892822265625\n",
      "134 202.91055297851562\n",
      "135 202.73248291015625\n",
      "136 202.55471801757812\n",
      "137 202.37744140625\n",
      "138 202.2003631591797\n",
      "139 202.0237579345703\n",
      "140 201.8473663330078\n",
      "141 201.6714630126953\n",
      "142 201.49583435058594\n",
      "143 201.3206329345703\n",
      "144 201.14561462402344\n",
      "145 200.9711456298828\n",
      "146 200.79681396484375\n",
      "147 200.6229248046875\n",
      "148 200.4492950439453\n",
      "149 200.27598571777344\n",
      "150 200.10308837890625\n",
      "151 199.9305419921875\n",
      "152 199.7582244873047\n",
      "153 199.58636474609375\n",
      "154 199.4146270751953\n",
      "155 199.24339294433594\n",
      "156 199.0724334716797\n",
      "157 198.90171813964844\n",
      "158 198.7313995361328\n",
      "159 198.561279296875\n",
      "160 198.39169311523438\n",
      "161 198.22219848632812\n",
      "162 198.05316162109375\n",
      "163 197.88433837890625\n",
      "164 197.7157440185547\n",
      "165 197.54751586914062\n",
      "166 197.379638671875\n",
      "167 197.21206665039062\n",
      "168 197.04457092285156\n",
      "169 196.8776397705078\n",
      "170 196.7109375\n",
      "171 196.5444793701172\n",
      "172 196.37840270996094\n",
      "173 196.2124786376953\n",
      "174 196.04696655273438\n",
      "175 195.88162231445312\n",
      "176 195.71664428710938\n",
      "177 195.5520782470703\n",
      "178 195.3876190185547\n",
      "179 195.2235107421875\n",
      "180 195.0596160888672\n",
      "181 194.89614868164062\n",
      "182 194.7328338623047\n",
      "183 194.56985473632812\n",
      "184 194.40716552734375\n",
      "185 194.24472045898438\n",
      "186 194.08255004882812\n",
      "187 193.92056274414062\n",
      "188 193.7589569091797\n",
      "189 193.59768676757812\n",
      "190 193.4365692138672\n",
      "191 193.2759246826172\n",
      "192 193.11538696289062\n",
      "193 192.9550323486328\n",
      "194 192.7951202392578\n",
      "195 192.63534545898438\n",
      "196 192.47592163085938\n",
      "197 192.3166961669922\n",
      "198 192.15786743164062\n",
      "199 191.99911499023438\n",
      "200 191.84080505371094\n",
      "201 191.68255615234375\n",
      "202 191.52464294433594\n",
      "203 191.3670196533203\n",
      "204 191.2096710205078\n",
      "205 191.05258178710938\n",
      "206 190.8956298828125\n",
      "207 190.73899841308594\n",
      "208 190.5827178955078\n",
      "209 190.4265594482422\n",
      "210 190.2708740234375\n",
      "211 190.1151123046875\n",
      "212 189.95989990234375\n",
      "213 189.8047332763672\n",
      "214 189.64993286132812\n",
      "215 189.4953155517578\n",
      "216 189.34095764160156\n",
      "217 189.1868133544922\n",
      "218 189.0330047607422\n",
      "219 188.87925720214844\n",
      "220 188.72586059570312\n",
      "221 188.5726776123047\n",
      "222 188.4197998046875\n",
      "223 188.26707458496094\n",
      "224 188.11463928222656\n",
      "225 187.96243286132812\n",
      "226 187.81060791015625\n",
      "227 187.6587677001953\n",
      "228 187.5072784423828\n",
      "229 187.3560791015625\n",
      "230 187.2050323486328\n",
      "231 187.05418395996094\n",
      "232 186.90371704101562\n",
      "233 186.75332641601562\n",
      "234 186.60324096679688\n",
      "235 186.45338439941406\n",
      "236 186.3037109375\n",
      "237 186.15435791015625\n",
      "238 186.00511169433594\n",
      "239 185.85617065429688\n",
      "240 185.7074737548828\n",
      "241 185.5589599609375\n",
      "242 185.41070556640625\n",
      "243 185.2626495361328\n",
      "244 185.11483764648438\n",
      "245 184.96717834472656\n",
      "246 184.8198699951172\n",
      "247 184.67276000976562\n",
      "248 184.5258026123047\n",
      "249 184.3790740966797\n",
      "250 184.2327117919922\n",
      "251 184.0863037109375\n",
      "252 183.94036865234375\n",
      "253 183.79444885253906\n",
      "254 183.64883422851562\n",
      "255 183.50341796875\n",
      "256 183.35836791992188\n",
      "257 183.2134246826172\n",
      "258 183.0687255859375\n",
      "259 182.92413330078125\n",
      "260 182.7798309326172\n",
      "261 182.6356658935547\n",
      "262 182.49185180664062\n",
      "263 182.34825134277344\n",
      "264 182.20484924316406\n",
      "265 182.06153869628906\n",
      "266 181.91859436035156\n",
      "267 181.77587890625\n",
      "268 181.6332244873047\n",
      "269 181.49087524414062\n",
      "270 181.34861755371094\n",
      "271 181.2067108154297\n",
      "272 181.0650634765625\n",
      "273 180.9235382080078\n",
      "274 180.7821807861328\n",
      "275 180.64117431640625\n",
      "276 180.50033569335938\n",
      "277 180.35948181152344\n",
      "278 180.21917724609375\n",
      "279 180.07876586914062\n",
      "280 179.93870544433594\n",
      "281 179.7987823486328\n",
      "282 179.6591033935547\n",
      "283 179.5196533203125\n",
      "284 179.3803253173828\n",
      "285 179.24131774902344\n",
      "286 179.1023406982422\n",
      "287 178.96365356445312\n",
      "288 178.8251953125\n",
      "289 178.6868896484375\n",
      "290 178.54876708984375\n",
      "291 178.4108123779297\n",
      "292 178.27313232421875\n",
      "293 178.135498046875\n",
      "294 177.9980926513672\n",
      "295 177.8610076904297\n",
      "296 177.72402954101562\n",
      "297 177.5872039794922\n",
      "298 177.45057678222656\n",
      "299 177.314208984375\n",
      "300 177.17796325683594\n",
      "301 177.04185485839844\n",
      "302 176.9060821533203\n",
      "303 176.77047729492188\n",
      "304 176.63504028320312\n",
      "305 176.4996337890625\n",
      "306 176.3647003173828\n",
      "307 176.22972106933594\n",
      "308 176.09518432617188\n",
      "309 175.96070861816406\n",
      "310 175.82635498046875\n",
      "311 175.69223022460938\n",
      "312 175.5583038330078\n",
      "313 175.42457580566406\n",
      "314 175.291015625\n",
      "315 175.15765380859375\n",
      "316 175.02442932128906\n",
      "317 174.8914337158203\n",
      "318 174.75865173339844\n",
      "319 174.62600708007812\n",
      "320 174.4935302734375\n",
      "321 174.36131286621094\n",
      "322 174.2291259765625\n",
      "323 174.09715270996094\n",
      "324 173.96548461914062\n",
      "325 173.83387756347656\n",
      "326 173.70249938964844\n",
      "327 173.57135009765625\n",
      "328 173.44027709960938\n",
      "329 173.30935668945312\n",
      "330 173.1787109375\n",
      "331 173.04833984375\n",
      "332 172.9179229736328\n",
      "333 172.7877960205078\n",
      "334 172.6577911376953\n",
      "335 172.52818298339844\n",
      "336 172.39845275878906\n",
      "337 172.26902770996094\n",
      "338 172.13975524902344\n",
      "339 172.01055908203125\n",
      "340 171.8816375732422\n",
      "341 171.75283813476562\n",
      "342 171.62425231933594\n",
      "343 171.49591064453125\n",
      "344 171.3675994873047\n",
      "345 171.239501953125\n",
      "346 171.11155700683594\n",
      "347 170.98391723632812\n",
      "348 170.8563690185547\n",
      "349 170.72909545898438\n",
      "350 170.601806640625\n",
      "351 170.4748992919922\n",
      "352 170.34799194335938\n",
      "353 170.22134399414062\n",
      "354 170.0946502685547\n",
      "355 169.9683380126953\n",
      "356 169.84217834472656\n",
      "357 169.7161407470703\n",
      "358 169.59031677246094\n",
      "359 169.46456909179688\n",
      "360 169.33908081054688\n",
      "361 169.21372985839844\n",
      "362 169.08840942382812\n",
      "363 168.96331787109375\n",
      "364 168.8385009765625\n",
      "365 168.7138214111328\n",
      "366 168.58929443359375\n",
      "367 168.4648895263672\n",
      "368 168.3406524658203\n",
      "369 168.2166290283203\n",
      "370 168.0928955078125\n",
      "371 167.96908569335938\n",
      "372 167.84548950195312\n",
      "373 167.72216796875\n",
      "374 167.59896850585938\n",
      "375 167.47589111328125\n",
      "376 167.35293579101562\n",
      "377 167.230224609375\n",
      "378 167.1077117919922\n"
     ]
    },
    {
     "name": "stdout",
     "output_type": "stream",
     "text": [
      "379 166.98519897460938\n",
      "380 166.86300659179688\n",
      "381 166.7409210205078\n",
      "382 166.61911010742188\n",
      "383 166.497314453125\n",
      "384 166.37571716308594\n",
      "385 166.2542724609375\n",
      "386 166.13308715820312\n",
      "387 166.01193237304688\n",
      "388 165.89102172851562\n",
      "389 165.77012634277344\n",
      "390 165.6496124267578\n",
      "391 165.52920532226562\n",
      "392 165.40870666503906\n",
      "393 165.2885284423828\n",
      "394 165.1685333251953\n",
      "395 165.0486297607422\n",
      "396 164.92898559570312\n",
      "397 164.8093719482422\n",
      "398 164.69003295898438\n",
      "399 164.5707244873047\n",
      "400 164.4517059326172\n",
      "401 164.33277893066406\n",
      "402 164.21397399902344\n",
      "403 164.09536743164062\n",
      "404 163.9768829345703\n",
      "405 163.85862731933594\n",
      "406 163.74038696289062\n",
      "407 163.62242126464844\n",
      "408 163.5045928955078\n",
      "409 163.38694763183594\n",
      "410 163.2694549560547\n",
      "411 163.15206909179688\n",
      "412 163.03485107421875\n",
      "413 162.91773986816406\n",
      "414 162.80087280273438\n",
      "415 162.68411254882812\n",
      "416 162.56741333007812\n",
      "417 162.4509735107422\n",
      "418 162.33468627929688\n",
      "419 162.21841430664062\n",
      "420 162.10231018066406\n",
      "421 161.9864959716797\n",
      "422 161.8707275390625\n",
      "423 161.75502014160156\n",
      "424 161.63946533203125\n",
      "425 161.524169921875\n",
      "426 161.4090118408203\n",
      "427 161.29408264160156\n",
      "428 161.17919921875\n",
      "429 161.06448364257812\n",
      "430 160.94985961914062\n",
      "431 160.83558654785156\n",
      "432 160.72128295898438\n",
      "433 160.607177734375\n",
      "434 160.4932403564453\n",
      "435 160.37940979003906\n",
      "436 160.26583862304688\n",
      "437 160.15232849121094\n",
      "438 160.03892517089844\n",
      "439 159.92591857910156\n",
      "440 159.812744140625\n",
      "441 159.69984436035156\n",
      "442 159.58714294433594\n",
      "443 159.4744873046875\n",
      "444 159.36199951171875\n",
      "445 159.24978637695312\n",
      "446 159.13760375976562\n",
      "447 159.02548217773438\n",
      "448 158.91363525390625\n",
      "449 158.8018341064453\n",
      "450 158.69015502929688\n",
      "451 158.5786590576172\n",
      "452 158.46737670898438\n",
      "453 158.35621643066406\n",
      "454 158.2450714111328\n",
      "455 158.13421630859375\n",
      "456 158.0234375\n",
      "457 157.91282653808594\n",
      "458 157.8024139404297\n",
      "459 157.6920166015625\n",
      "460 157.58187866210938\n",
      "461 157.47189331054688\n",
      "462 157.36190795898438\n",
      "463 157.25209045410156\n",
      "464 157.14251708984375\n",
      "465 157.03298950195312\n",
      "466 156.92356872558594\n",
      "467 156.8145294189453\n",
      "468 156.70523071289062\n",
      "469 156.59642028808594\n",
      "470 156.48751831054688\n",
      "471 156.3788299560547\n",
      "472 156.2703094482422\n",
      "473 156.16184997558594\n",
      "474 156.05364990234375\n",
      "475 155.94544982910156\n",
      "476 155.8374786376953\n",
      "477 155.72962951660156\n",
      "478 155.621826171875\n",
      "479 155.5141143798828\n",
      "480 155.40660095214844\n",
      "481 155.2991943359375\n",
      "482 155.1919403076172\n",
      "483 155.0847625732422\n",
      "484 154.9777374267578\n",
      "485 154.87094116210938\n",
      "486 154.7642364501953\n",
      "487 154.6576690673828\n",
      "488 154.5512237548828\n",
      "489 154.44497680664062\n",
      "490 154.3387908935547\n",
      "491 154.23275756835938\n",
      "492 154.12693786621094\n",
      "493 154.02125549316406\n",
      "494 153.91566467285156\n",
      "495 153.81016540527344\n",
      "496 153.7048797607422\n",
      "497 153.5996551513672\n",
      "498 153.49462890625\n",
      "499 153.3896942138672\n"
     ]
    }
   ],
   "source": [
    "# пример взят из официального туториала: \n",
    "# https://pytorch.org/tutorials/beginner/pytorch_with_examples.html\n",
    "\n",
    "# N - размер батча (batch_size, нужно для метода оптимизации); \n",
    "# D_in - размерность входа (количество признаков у объекта);\n",
    "# H - размерность скрытых слоёв; \n",
    "# D_out - размерность выходного слоя (суть - количество классов)\n",
    "N, D_in, H, D_out = 64, 2, 1000, 3\n",
    "\n",
    "# Use the nn package to define our model and loss function.\n",
    "two_layer_net = torch.nn.Sequential(\n",
    "    torch.nn.Linear(D_in, H),\n",
    "    torch.nn.ReLU(),\n",
    "    torch.nn.Linear(H, D_out),\n",
    ")\n",
    "\n",
    "loss_fn = torch.nn.CrossEntropyLoss(size_average=False)\n",
    "\n",
    "learning_rate = 1e-4\n",
    "optimizer = torch.optim.SGD(two_layer_net.parameters(), lr=learning_rate)\n",
    "for t in range(500):\n",
    "    # forward\n",
    "    y_pred = two_layer_net(X)\n",
    "\n",
    "    # loss\n",
    "    loss = loss_fn(y_pred, y)\n",
    "    print('{} {}'.format(t, loss.data))\n",
    "\n",
    "    # ЗАНУЛЯЕМ!\n",
    "    optimizer.zero_grad()\n",
    "\n",
    "    # backward\n",
    "    loss.backward()\n",
    "\n",
    "    # ОБНОВЛЯЕМ! \n",
    "    optimizer.step()"
   ]
  },
  {
   "cell_type": "markdown",
   "metadata": {
    "colab_type": "text",
    "id": "zTQiN0bcYJd6"
   },
   "source": [
    "**Обратите внимание:** несмотря на то, что это задача 3-х классовой классификации и столбец $y$ нужно по-хорошему кодировать OneHotEncoding'ом, мы подали просто столбец из 0, 1 и 2 и всё отработало. Вывод - PyTorch сам делает OneHot в таком случае."
   ]
  },
  {
   "cell_type": "markdown",
   "metadata": {
    "colab_type": "text",
    "id": "apsWWq17YJd8"
   },
   "source": [
    "Проверим, насколько хороша наша сеть из 100 нейронов:"
   ]
  },
  {
   "cell_type": "code",
   "execution_count": 12,
   "metadata": {
    "colab": {},
    "colab_type": "code",
    "id": "X0ICB6Z-YJd-"
   },
   "outputs": [],
   "source": [
    "# Обратно в Numpy для отрисовки\n",
    "X = X.data.numpy()\n",
    "y = y.data.numpy()"
   ]
  },
  {
   "cell_type": "code",
   "execution_count": 13,
   "metadata": {
    "colab": {},
    "colab_type": "code",
    "id": "JvjfvgbPYJeB",
    "outputId": "cf5545ff-3315-45c9-c674-af44f63a346b"
   },
   "outputs": [
    {
     "data": {
      "image/png": "[encoded data removed]",
      "text/plain": [
       "<Figure size 720x576 with 1 Axes>"
      ]
     },
     "metadata": {},
     "output_type": "display_data"
    }
   ],
   "source": [
    "# Отрисовочная магия, снова взято из:\n",
    "# http://cs231n.github.io/neural-networks-case-study/#linear\n",
    "\n",
    "h = 0.02\n",
    "x_min, x_max = X[:, 0].min() - 1, X[:, 0].max() + 1\n",
    "y_min, y_max = X[:, 1].min() - 1, X[:, 1].max() + 1\n",
    "\n",
    "xx, yy = np.meshgrid(np.arange(x_min, x_max, h),\n",
    "                     np.arange(y_min, y_max, h))\n",
    "grid_tensor = torch.FloatTensor(np.c_[xx.ravel(), yy.ravel()])\n",
    "\n",
    "Z = two_layer_net(torch.autograd.Variable(grid_tensor))\n",
    "Z = Z.data.numpy()\n",
    "Z = np.argmax(Z, axis=1)\n",
    "Z = Z.reshape(xx.shape)\n",
    "\n",
    "plt.figure(figsize=(10, 8))\n",
    "\n",
    "plt.contourf(xx, yy, Z, cmap=plt.cm.rainbow, alpha=0.3)\n",
    "plt.scatter(X[:, 0], X[:, 1], c=y, s=40, cmap=plt.cm.rainbow)\n",
    "\n",
    "plt.xlim(xx.min(), xx.max())\n",
    "plt.ylim(yy.min(), yy.max())\n",
    "\n",
    "plt.title('Игрушка дьявола', fontsize=15)\n",
    "plt.xlabel('$x$', fontsize=14)\n",
    "plt.ylabel('$y$', fontsize=14)\n",
    "plt.show();"
   ]
  },
  {
   "cell_type": "markdown",
   "metadata": {
    "colab_type": "text",
    "id": "I-LuUcmNYJeE"
   },
   "source": [
    "Качество не очень. Как же так, ведь мы использовали 100 нейронов? Разве их мало?"
   ]
  },
  {
   "cell_type": "markdown",
   "metadata": {
    "colab_type": "text",
    "id": "CUh5va_PYJeF"
   },
   "source": [
    "---"
   ]
  },
  {
   "cell_type": "markdown",
   "metadata": {
    "colab_type": "text",
    "id": "34q5qIBvYJeG"
   },
   "source": [
    "### Задача 2"
   ]
  },
  {
   "cell_type": "markdown",
   "metadata": {
    "colab_type": "text",
    "id": "G2wNgoh5YJeG"
   },
   "source": [
    "Улучшите сеть (помните про вещи, которые можно менять (см. Компоненты нейросети)). Экспериментируйте, в этом **вся суть deep learning** (и в том, чтобы рано или поздно сетка научилась экспериментировать за Вас :)"
   ]
  },
  {
   "cell_type": "code",
   "execution_count": 0,
   "metadata": {
    "colab": {},
    "colab_type": "code",
    "id": "ZYzvOiPgYJeH"
   },
   "outputs": [],
   "source": [
    "# set up 1000 neurons"
   ]
  },
  {
   "cell_type": "markdown",
   "metadata": {
    "colab_type": "text",
    "id": "6N_9wfvPYJeK"
   },
   "source": [
    "---"
   ]
  },
  {
   "cell_type": "markdown",
   "metadata": {
    "colab_type": "text",
    "id": "H_thmQJOYJeK"
   },
   "source": [
    "<h3 style=\"text-align: center;\"><b>Полезные ссылки</b></h3>"
   ]
  },
  {
   "cell_type": "markdown",
   "metadata": {
    "colab_type": "text",
    "id": "RpSrLf9FYJeL"
   },
   "source": [
    "1). *Примеры написания нейросетей на PyTorch (офийиальные туториалы) (на английском): https://pytorch.org/tutorials/beginner/pytorch_with_examples.html#examples  \n",
    "https://pytorch.org/tutorials/beginner/blitz/cifar10_tutorial.html*\n",
    "\n",
    "2). ***Один из самых подробных и полных курсов по deep learning на данный момент - это курс Стэнфордского Университета (он вообще сейчас один из лидеров в области ИИ, его выпускники работают в Google, Facebook, Amazon, Microsoft, в стартапах в Кремниевой долине):  http://cs231n.github.io/***  \n",
    "\n",
    "3). Практически исчерпывающая информация по основам нейросетей (из cs231n) (на английском):  \n",
    "\n",
    "http://cs231n.github.io/neural-networks-1/,  \n",
    "http://cs231n.github.io/neural-networks-2/,  \n",
    "http://cs231n.github.io/neural-networks-3/,  \n",
    "http://cs231n.github.io/neural-networks-case-study/#linear\n",
    "\n",
    "4). *Хорошие статьи по основам нейросетей (на английском):  http://neuralnetworksanddeeplearning.com/chap1.html*\n",
    "\n",
    "5). *Наглядная демонстрация того, как обучаются нейросети:  https://cs.stanford.edu/people/karpathy/convnetjs/*"
   ]
  },
  {
   "cell_type": "markdown",
   "metadata": {
    "colab_type": "text",
    "id": "1Qldb1U5YJeM"
   },
   "source": [
    "6). *Подробнее про backprop -- статья на Medium: https://medium.com/autonomous-agents/backpropagation-how-neural-networks-learn-complex-behaviors-9572ac161670*"
   ]
  },
  {
   "cell_type": "markdown",
   "metadata": {
    "colab_type": "text",
    "id": "g1HSslRhYJeN"
   },
   "source": [
    "7). *Статья из интернет по Backprop: http://page.mi.fu-berlin.de/rojas/neural/chapter/K7.pdf*"
   ]
  }
 ],
 "metadata": {
  "colab": {
   "name": "[seminar]mlp_pytorch.ipynb",
   "provenance": [],
   "version": "0.3.2"
  },
  "kernelspec": {
   "display_name": "Python 3",
   "language": "python",
   "name": "python3"
  },
  "language_info": {
   "codemirror_mode": {
    "name": "ipython",
    "version": 3
   },
   "file_extension": ".py",
   "mimetype": "text/x-python",
   "name": "python",
   "nbconvert_exporter": "python",
   "pygments_lexer": "ipython3",
   "version": "3.6.5"
  }
 },
 "nbformat": 4,
 "nbformat_minor": 1
}
